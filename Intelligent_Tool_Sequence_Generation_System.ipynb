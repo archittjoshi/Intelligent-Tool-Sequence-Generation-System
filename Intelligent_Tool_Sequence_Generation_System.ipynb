{
  "nbformat": 4,
  "nbformat_minor": 0,
  "metadata": {
    "colab": {
      "provenance": [],
      "collapsed_sections": [
        "2MzYcmIKxXAC",
        "Z5Kc9iA_qMTo",
        "nY7D8NvXqMTs",
        "baTxRpIWj5cO",
        "YmeTB80pBECY"
      ]
    },
    "kernelspec": {
      "name": "python3",
      "display_name": "Python 3"
    },
    "language_info": {
      "name": "python"
    },
    "widgets": {
      "application/vnd.jupyter.widget-state+json": {
        "fd2ce059f14644368d6f6814808e1c56": {
          "model_module": "@jupyter-widgets/controls",
          "model_name": "HBoxModel",
          "model_module_version": "1.5.0",
          "state": {
            "_dom_classes": [],
            "_model_module": "@jupyter-widgets/controls",
            "_model_module_version": "1.5.0",
            "_model_name": "HBoxModel",
            "_view_count": null,
            "_view_module": "@jupyter-widgets/controls",
            "_view_module_version": "1.5.0",
            "_view_name": "HBoxView",
            "box_style": "",
            "children": [
              "IPY_MODEL_2448ae57cead4bbcacb5cafbfb9be200",
              "IPY_MODEL_e6da7be469c7482b828d5addd4472988",
              "IPY_MODEL_89d10287e1c54532818228062b91d24a"
            ],
            "layout": "IPY_MODEL_28a00a944e794a34808ac79419ebaa63"
          }
        },
        "2448ae57cead4bbcacb5cafbfb9be200": {
          "model_module": "@jupyter-widgets/controls",
          "model_name": "HTMLModel",
          "model_module_version": "1.5.0",
          "state": {
            "_dom_classes": [],
            "_model_module": "@jupyter-widgets/controls",
            "_model_module_version": "1.5.0",
            "_model_name": "HTMLModel",
            "_view_count": null,
            "_view_module": "@jupyter-widgets/controls",
            "_view_module_version": "1.5.0",
            "_view_name": "HTMLView",
            "description": "",
            "description_tooltip": null,
            "layout": "IPY_MODEL_bc035514671645bd8478649f1d36ef04",
            "placeholder": "​",
            "style": "IPY_MODEL_3391c044dff04e57b7a2e5473ed2fcf3",
            "value": "modules.json: 100%"
          }
        },
        "e6da7be469c7482b828d5addd4472988": {
          "model_module": "@jupyter-widgets/controls",
          "model_name": "FloatProgressModel",
          "model_module_version": "1.5.0",
          "state": {
            "_dom_classes": [],
            "_model_module": "@jupyter-widgets/controls",
            "_model_module_version": "1.5.0",
            "_model_name": "FloatProgressModel",
            "_view_count": null,
            "_view_module": "@jupyter-widgets/controls",
            "_view_module_version": "1.5.0",
            "_view_name": "ProgressView",
            "bar_style": "success",
            "description": "",
            "description_tooltip": null,
            "layout": "IPY_MODEL_fd93caa0e6104b2984609ca45a374bf7",
            "max": 229,
            "min": 0,
            "orientation": "horizontal",
            "style": "IPY_MODEL_c966a85d223941d594946da822f061b5",
            "value": 229
          }
        },
        "89d10287e1c54532818228062b91d24a": {
          "model_module": "@jupyter-widgets/controls",
          "model_name": "HTMLModel",
          "model_module_version": "1.5.0",
          "state": {
            "_dom_classes": [],
            "_model_module": "@jupyter-widgets/controls",
            "_model_module_version": "1.5.0",
            "_model_name": "HTMLModel",
            "_view_count": null,
            "_view_module": "@jupyter-widgets/controls",
            "_view_module_version": "1.5.0",
            "_view_name": "HTMLView",
            "description": "",
            "description_tooltip": null,
            "layout": "IPY_MODEL_4a36364d42ba496c8dbdb57eee19fabc",
            "placeholder": "​",
            "style": "IPY_MODEL_a0b9fe2d4ab94edb86ba9a34cec5f297",
            "value": " 229/229 [00:00&lt;00:00, 10.9kB/s]"
          }
        },
        "28a00a944e794a34808ac79419ebaa63": {
          "model_module": "@jupyter-widgets/base",
          "model_name": "LayoutModel",
          "model_module_version": "1.2.0",
          "state": {
            "_model_module": "@jupyter-widgets/base",
            "_model_module_version": "1.2.0",
            "_model_name": "LayoutModel",
            "_view_count": null,
            "_view_module": "@jupyter-widgets/base",
            "_view_module_version": "1.2.0",
            "_view_name": "LayoutView",
            "align_content": null,
            "align_items": null,
            "align_self": null,
            "border": null,
            "bottom": null,
            "display": null,
            "flex": null,
            "flex_flow": null,
            "grid_area": null,
            "grid_auto_columns": null,
            "grid_auto_flow": null,
            "grid_auto_rows": null,
            "grid_column": null,
            "grid_gap": null,
            "grid_row": null,
            "grid_template_areas": null,
            "grid_template_columns": null,
            "grid_template_rows": null,
            "height": null,
            "justify_content": null,
            "justify_items": null,
            "left": null,
            "margin": null,
            "max_height": null,
            "max_width": null,
            "min_height": null,
            "min_width": null,
            "object_fit": null,
            "object_position": null,
            "order": null,
            "overflow": null,
            "overflow_x": null,
            "overflow_y": null,
            "padding": null,
            "right": null,
            "top": null,
            "visibility": null,
            "width": null
          }
        },
        "bc035514671645bd8478649f1d36ef04": {
          "model_module": "@jupyter-widgets/base",
          "model_name": "LayoutModel",
          "model_module_version": "1.2.0",
          "state": {
            "_model_module": "@jupyter-widgets/base",
            "_model_module_version": "1.2.0",
            "_model_name": "LayoutModel",
            "_view_count": null,
            "_view_module": "@jupyter-widgets/base",
            "_view_module_version": "1.2.0",
            "_view_name": "LayoutView",
            "align_content": null,
            "align_items": null,
            "align_self": null,
            "border": null,
            "bottom": null,
            "display": null,
            "flex": null,
            "flex_flow": null,
            "grid_area": null,
            "grid_auto_columns": null,
            "grid_auto_flow": null,
            "grid_auto_rows": null,
            "grid_column": null,
            "grid_gap": null,
            "grid_row": null,
            "grid_template_areas": null,
            "grid_template_columns": null,
            "grid_template_rows": null,
            "height": null,
            "justify_content": null,
            "justify_items": null,
            "left": null,
            "margin": null,
            "max_height": null,
            "max_width": null,
            "min_height": null,
            "min_width": null,
            "object_fit": null,
            "object_position": null,
            "order": null,
            "overflow": null,
            "overflow_x": null,
            "overflow_y": null,
            "padding": null,
            "right": null,
            "top": null,
            "visibility": null,
            "width": null
          }
        },
        "3391c044dff04e57b7a2e5473ed2fcf3": {
          "model_module": "@jupyter-widgets/controls",
          "model_name": "DescriptionStyleModel",
          "model_module_version": "1.5.0",
          "state": {
            "_model_module": "@jupyter-widgets/controls",
            "_model_module_version": "1.5.0",
            "_model_name": "DescriptionStyleModel",
            "_view_count": null,
            "_view_module": "@jupyter-widgets/base",
            "_view_module_version": "1.2.0",
            "_view_name": "StyleView",
            "description_width": ""
          }
        },
        "fd93caa0e6104b2984609ca45a374bf7": {
          "model_module": "@jupyter-widgets/base",
          "model_name": "LayoutModel",
          "model_module_version": "1.2.0",
          "state": {
            "_model_module": "@jupyter-widgets/base",
            "_model_module_version": "1.2.0",
            "_model_name": "LayoutModel",
            "_view_count": null,
            "_view_module": "@jupyter-widgets/base",
            "_view_module_version": "1.2.0",
            "_view_name": "LayoutView",
            "align_content": null,
            "align_items": null,
            "align_self": null,
            "border": null,
            "bottom": null,
            "display": null,
            "flex": null,
            "flex_flow": null,
            "grid_area": null,
            "grid_auto_columns": null,
            "grid_auto_flow": null,
            "grid_auto_rows": null,
            "grid_column": null,
            "grid_gap": null,
            "grid_row": null,
            "grid_template_areas": null,
            "grid_template_columns": null,
            "grid_template_rows": null,
            "height": null,
            "justify_content": null,
            "justify_items": null,
            "left": null,
            "margin": null,
            "max_height": null,
            "max_width": null,
            "min_height": null,
            "min_width": null,
            "object_fit": null,
            "object_position": null,
            "order": null,
            "overflow": null,
            "overflow_x": null,
            "overflow_y": null,
            "padding": null,
            "right": null,
            "top": null,
            "visibility": null,
            "width": null
          }
        },
        "c966a85d223941d594946da822f061b5": {
          "model_module": "@jupyter-widgets/controls",
          "model_name": "ProgressStyleModel",
          "model_module_version": "1.5.0",
          "state": {
            "_model_module": "@jupyter-widgets/controls",
            "_model_module_version": "1.5.0",
            "_model_name": "ProgressStyleModel",
            "_view_count": null,
            "_view_module": "@jupyter-widgets/base",
            "_view_module_version": "1.2.0",
            "_view_name": "StyleView",
            "bar_color": null,
            "description_width": ""
          }
        },
        "4a36364d42ba496c8dbdb57eee19fabc": {
          "model_module": "@jupyter-widgets/base",
          "model_name": "LayoutModel",
          "model_module_version": "1.2.0",
          "state": {
            "_model_module": "@jupyter-widgets/base",
            "_model_module_version": "1.2.0",
            "_model_name": "LayoutModel",
            "_view_count": null,
            "_view_module": "@jupyter-widgets/base",
            "_view_module_version": "1.2.0",
            "_view_name": "LayoutView",
            "align_content": null,
            "align_items": null,
            "align_self": null,
            "border": null,
            "bottom": null,
            "display": null,
            "flex": null,
            "flex_flow": null,
            "grid_area": null,
            "grid_auto_columns": null,
            "grid_auto_flow": null,
            "grid_auto_rows": null,
            "grid_column": null,
            "grid_gap": null,
            "grid_row": null,
            "grid_template_areas": null,
            "grid_template_columns": null,
            "grid_template_rows": null,
            "height": null,
            "justify_content": null,
            "justify_items": null,
            "left": null,
            "margin": null,
            "max_height": null,
            "max_width": null,
            "min_height": null,
            "min_width": null,
            "object_fit": null,
            "object_position": null,
            "order": null,
            "overflow": null,
            "overflow_x": null,
            "overflow_y": null,
            "padding": null,
            "right": null,
            "top": null,
            "visibility": null,
            "width": null
          }
        },
        "a0b9fe2d4ab94edb86ba9a34cec5f297": {
          "model_module": "@jupyter-widgets/controls",
          "model_name": "DescriptionStyleModel",
          "model_module_version": "1.5.0",
          "state": {
            "_model_module": "@jupyter-widgets/controls",
            "_model_module_version": "1.5.0",
            "_model_name": "DescriptionStyleModel",
            "_view_count": null,
            "_view_module": "@jupyter-widgets/base",
            "_view_module_version": "1.2.0",
            "_view_name": "StyleView",
            "description_width": ""
          }
        },
        "d47f961fe5464354b9f49a4c26f6d897": {
          "model_module": "@jupyter-widgets/controls",
          "model_name": "HBoxModel",
          "model_module_version": "1.5.0",
          "state": {
            "_dom_classes": [],
            "_model_module": "@jupyter-widgets/controls",
            "_model_module_version": "1.5.0",
            "_model_name": "HBoxModel",
            "_view_count": null,
            "_view_module": "@jupyter-widgets/controls",
            "_view_module_version": "1.5.0",
            "_view_name": "HBoxView",
            "box_style": "",
            "children": [
              "IPY_MODEL_5c4e7d943c494f8fae12452347c23849",
              "IPY_MODEL_d544ed730bf74d12ac490c8344e18572",
              "IPY_MODEL_3efbda4f51fd4ed3bc3bededfb7e13fd"
            ],
            "layout": "IPY_MODEL_4e593e93f9304470be3b4b351f49bf6f"
          }
        },
        "5c4e7d943c494f8fae12452347c23849": {
          "model_module": "@jupyter-widgets/controls",
          "model_name": "HTMLModel",
          "model_module_version": "1.5.0",
          "state": {
            "_dom_classes": [],
            "_model_module": "@jupyter-widgets/controls",
            "_model_module_version": "1.5.0",
            "_model_name": "HTMLModel",
            "_view_count": null,
            "_view_module": "@jupyter-widgets/controls",
            "_view_module_version": "1.5.0",
            "_view_name": "HTMLView",
            "description": "",
            "description_tooltip": null,
            "layout": "IPY_MODEL_5f73ec3d35c84c099ecfbdb7d9d2c712",
            "placeholder": "​",
            "style": "IPY_MODEL_f6b72f6c2fa34914ab49e0d34ef29882",
            "value": "config_sentence_transformers.json: 100%"
          }
        },
        "d544ed730bf74d12ac490c8344e18572": {
          "model_module": "@jupyter-widgets/controls",
          "model_name": "FloatProgressModel",
          "model_module_version": "1.5.0",
          "state": {
            "_dom_classes": [],
            "_model_module": "@jupyter-widgets/controls",
            "_model_module_version": "1.5.0",
            "_model_name": "FloatProgressModel",
            "_view_count": null,
            "_view_module": "@jupyter-widgets/controls",
            "_view_module_version": "1.5.0",
            "_view_name": "ProgressView",
            "bar_style": "success",
            "description": "",
            "description_tooltip": null,
            "layout": "IPY_MODEL_3f10e796b07348379dec8777e393df31",
            "max": 123,
            "min": 0,
            "orientation": "horizontal",
            "style": "IPY_MODEL_b60672fbb95949959b6d7f0286e7aff8",
            "value": 123
          }
        },
        "3efbda4f51fd4ed3bc3bededfb7e13fd": {
          "model_module": "@jupyter-widgets/controls",
          "model_name": "HTMLModel",
          "model_module_version": "1.5.0",
          "state": {
            "_dom_classes": [],
            "_model_module": "@jupyter-widgets/controls",
            "_model_module_version": "1.5.0",
            "_model_name": "HTMLModel",
            "_view_count": null,
            "_view_module": "@jupyter-widgets/controls",
            "_view_module_version": "1.5.0",
            "_view_name": "HTMLView",
            "description": "",
            "description_tooltip": null,
            "layout": "IPY_MODEL_bd8217fbaa40465d8d5f30c9dc6cc8e8",
            "placeholder": "​",
            "style": "IPY_MODEL_fc0fff1d172f4de78853ab7f65cdf792",
            "value": " 123/123 [00:00&lt;00:00, 5.57kB/s]"
          }
        },
        "4e593e93f9304470be3b4b351f49bf6f": {
          "model_module": "@jupyter-widgets/base",
          "model_name": "LayoutModel",
          "model_module_version": "1.2.0",
          "state": {
            "_model_module": "@jupyter-widgets/base",
            "_model_module_version": "1.2.0",
            "_model_name": "LayoutModel",
            "_view_count": null,
            "_view_module": "@jupyter-widgets/base",
            "_view_module_version": "1.2.0",
            "_view_name": "LayoutView",
            "align_content": null,
            "align_items": null,
            "align_self": null,
            "border": null,
            "bottom": null,
            "display": null,
            "flex": null,
            "flex_flow": null,
            "grid_area": null,
            "grid_auto_columns": null,
            "grid_auto_flow": null,
            "grid_auto_rows": null,
            "grid_column": null,
            "grid_gap": null,
            "grid_row": null,
            "grid_template_areas": null,
            "grid_template_columns": null,
            "grid_template_rows": null,
            "height": null,
            "justify_content": null,
            "justify_items": null,
            "left": null,
            "margin": null,
            "max_height": null,
            "max_width": null,
            "min_height": null,
            "min_width": null,
            "object_fit": null,
            "object_position": null,
            "order": null,
            "overflow": null,
            "overflow_x": null,
            "overflow_y": null,
            "padding": null,
            "right": null,
            "top": null,
            "visibility": null,
            "width": null
          }
        },
        "5f73ec3d35c84c099ecfbdb7d9d2c712": {
          "model_module": "@jupyter-widgets/base",
          "model_name": "LayoutModel",
          "model_module_version": "1.2.0",
          "state": {
            "_model_module": "@jupyter-widgets/base",
            "_model_module_version": "1.2.0",
            "_model_name": "LayoutModel",
            "_view_count": null,
            "_view_module": "@jupyter-widgets/base",
            "_view_module_version": "1.2.0",
            "_view_name": "LayoutView",
            "align_content": null,
            "align_items": null,
            "align_self": null,
            "border": null,
            "bottom": null,
            "display": null,
            "flex": null,
            "flex_flow": null,
            "grid_area": null,
            "grid_auto_columns": null,
            "grid_auto_flow": null,
            "grid_auto_rows": null,
            "grid_column": null,
            "grid_gap": null,
            "grid_row": null,
            "grid_template_areas": null,
            "grid_template_columns": null,
            "grid_template_rows": null,
            "height": null,
            "justify_content": null,
            "justify_items": null,
            "left": null,
            "margin": null,
            "max_height": null,
            "max_width": null,
            "min_height": null,
            "min_width": null,
            "object_fit": null,
            "object_position": null,
            "order": null,
            "overflow": null,
            "overflow_x": null,
            "overflow_y": null,
            "padding": null,
            "right": null,
            "top": null,
            "visibility": null,
            "width": null
          }
        },
        "f6b72f6c2fa34914ab49e0d34ef29882": {
          "model_module": "@jupyter-widgets/controls",
          "model_name": "DescriptionStyleModel",
          "model_module_version": "1.5.0",
          "state": {
            "_model_module": "@jupyter-widgets/controls",
            "_model_module_version": "1.5.0",
            "_model_name": "DescriptionStyleModel",
            "_view_count": null,
            "_view_module": "@jupyter-widgets/base",
            "_view_module_version": "1.2.0",
            "_view_name": "StyleView",
            "description_width": ""
          }
        },
        "3f10e796b07348379dec8777e393df31": {
          "model_module": "@jupyter-widgets/base",
          "model_name": "LayoutModel",
          "model_module_version": "1.2.0",
          "state": {
            "_model_module": "@jupyter-widgets/base",
            "_model_module_version": "1.2.0",
            "_model_name": "LayoutModel",
            "_view_count": null,
            "_view_module": "@jupyter-widgets/base",
            "_view_module_version": "1.2.0",
            "_view_name": "LayoutView",
            "align_content": null,
            "align_items": null,
            "align_self": null,
            "border": null,
            "bottom": null,
            "display": null,
            "flex": null,
            "flex_flow": null,
            "grid_area": null,
            "grid_auto_columns": null,
            "grid_auto_flow": null,
            "grid_auto_rows": null,
            "grid_column": null,
            "grid_gap": null,
            "grid_row": null,
            "grid_template_areas": null,
            "grid_template_columns": null,
            "grid_template_rows": null,
            "height": null,
            "justify_content": null,
            "justify_items": null,
            "left": null,
            "margin": null,
            "max_height": null,
            "max_width": null,
            "min_height": null,
            "min_width": null,
            "object_fit": null,
            "object_position": null,
            "order": null,
            "overflow": null,
            "overflow_x": null,
            "overflow_y": null,
            "padding": null,
            "right": null,
            "top": null,
            "visibility": null,
            "width": null
          }
        },
        "b60672fbb95949959b6d7f0286e7aff8": {
          "model_module": "@jupyter-widgets/controls",
          "model_name": "ProgressStyleModel",
          "model_module_version": "1.5.0",
          "state": {
            "_model_module": "@jupyter-widgets/controls",
            "_model_module_version": "1.5.0",
            "_model_name": "ProgressStyleModel",
            "_view_count": null,
            "_view_module": "@jupyter-widgets/base",
            "_view_module_version": "1.2.0",
            "_view_name": "StyleView",
            "bar_color": null,
            "description_width": ""
          }
        },
        "bd8217fbaa40465d8d5f30c9dc6cc8e8": {
          "model_module": "@jupyter-widgets/base",
          "model_name": "LayoutModel",
          "model_module_version": "1.2.0",
          "state": {
            "_model_module": "@jupyter-widgets/base",
            "_model_module_version": "1.2.0",
            "_model_name": "LayoutModel",
            "_view_count": null,
            "_view_module": "@jupyter-widgets/base",
            "_view_module_version": "1.2.0",
            "_view_name": "LayoutView",
            "align_content": null,
            "align_items": null,
            "align_self": null,
            "border": null,
            "bottom": null,
            "display": null,
            "flex": null,
            "flex_flow": null,
            "grid_area": null,
            "grid_auto_columns": null,
            "grid_auto_flow": null,
            "grid_auto_rows": null,
            "grid_column": null,
            "grid_gap": null,
            "grid_row": null,
            "grid_template_areas": null,
            "grid_template_columns": null,
            "grid_template_rows": null,
            "height": null,
            "justify_content": null,
            "justify_items": null,
            "left": null,
            "margin": null,
            "max_height": null,
            "max_width": null,
            "min_height": null,
            "min_width": null,
            "object_fit": null,
            "object_position": null,
            "order": null,
            "overflow": null,
            "overflow_x": null,
            "overflow_y": null,
            "padding": null,
            "right": null,
            "top": null,
            "visibility": null,
            "width": null
          }
        },
        "fc0fff1d172f4de78853ab7f65cdf792": {
          "model_module": "@jupyter-widgets/controls",
          "model_name": "DescriptionStyleModel",
          "model_module_version": "1.5.0",
          "state": {
            "_model_module": "@jupyter-widgets/controls",
            "_model_module_version": "1.5.0",
            "_model_name": "DescriptionStyleModel",
            "_view_count": null,
            "_view_module": "@jupyter-widgets/base",
            "_view_module_version": "1.2.0",
            "_view_name": "StyleView",
            "description_width": ""
          }
        },
        "59e6c39191934d5ca2f76a141908ae82": {
          "model_module": "@jupyter-widgets/controls",
          "model_name": "HBoxModel",
          "model_module_version": "1.5.0",
          "state": {
            "_dom_classes": [],
            "_model_module": "@jupyter-widgets/controls",
            "_model_module_version": "1.5.0",
            "_model_name": "HBoxModel",
            "_view_count": null,
            "_view_module": "@jupyter-widgets/controls",
            "_view_module_version": "1.5.0",
            "_view_name": "HBoxView",
            "box_style": "",
            "children": [
              "IPY_MODEL_5ecb6160f0ce4c82b64537107d11dd75",
              "IPY_MODEL_3497cf9472fa4b24802ad9bf85d4b8d0",
              "IPY_MODEL_8be27bab830340c4957b3f70b57fe12e"
            ],
            "layout": "IPY_MODEL_fda5eab4554249bc88e307de50d77a5c"
          }
        },
        "5ecb6160f0ce4c82b64537107d11dd75": {
          "model_module": "@jupyter-widgets/controls",
          "model_name": "HTMLModel",
          "model_module_version": "1.5.0",
          "state": {
            "_dom_classes": [],
            "_model_module": "@jupyter-widgets/controls",
            "_model_module_version": "1.5.0",
            "_model_name": "HTMLModel",
            "_view_count": null,
            "_view_module": "@jupyter-widgets/controls",
            "_view_module_version": "1.5.0",
            "_view_name": "HTMLView",
            "description": "",
            "description_tooltip": null,
            "layout": "IPY_MODEL_c46f7200e73d4b4984051228e7bcd69e",
            "placeholder": "​",
            "style": "IPY_MODEL_8f73ae96af124d11b85e1ba2842da267",
            "value": "README.md: 100%"
          }
        },
        "3497cf9472fa4b24802ad9bf85d4b8d0": {
          "model_module": "@jupyter-widgets/controls",
          "model_name": "FloatProgressModel",
          "model_module_version": "1.5.0",
          "state": {
            "_dom_classes": [],
            "_model_module": "@jupyter-widgets/controls",
            "_model_module_version": "1.5.0",
            "_model_name": "FloatProgressModel",
            "_view_count": null,
            "_view_module": "@jupyter-widgets/controls",
            "_view_module_version": "1.5.0",
            "_view_name": "ProgressView",
            "bar_style": "success",
            "description": "",
            "description_tooltip": null,
            "layout": "IPY_MODEL_09af0fdf0f5448f7a37613083ba20bb0",
            "max": 3809,
            "min": 0,
            "orientation": "horizontal",
            "style": "IPY_MODEL_b8af177823c644a098add43b1dc3284a",
            "value": 3809
          }
        },
        "8be27bab830340c4957b3f70b57fe12e": {
          "model_module": "@jupyter-widgets/controls",
          "model_name": "HTMLModel",
          "model_module_version": "1.5.0",
          "state": {
            "_dom_classes": [],
            "_model_module": "@jupyter-widgets/controls",
            "_model_module_version": "1.5.0",
            "_model_name": "HTMLModel",
            "_view_count": null,
            "_view_module": "@jupyter-widgets/controls",
            "_view_module_version": "1.5.0",
            "_view_name": "HTMLView",
            "description": "",
            "description_tooltip": null,
            "layout": "IPY_MODEL_3d0745a7c8d541709aed3471f4eb1440",
            "placeholder": "​",
            "style": "IPY_MODEL_67bb709368eb4838b8c99be35dad44af",
            "value": " 3.81k/3.81k [00:00&lt;00:00, 179kB/s]"
          }
        },
        "fda5eab4554249bc88e307de50d77a5c": {
          "model_module": "@jupyter-widgets/base",
          "model_name": "LayoutModel",
          "model_module_version": "1.2.0",
          "state": {
            "_model_module": "@jupyter-widgets/base",
            "_model_module_version": "1.2.0",
            "_model_name": "LayoutModel",
            "_view_count": null,
            "_view_module": "@jupyter-widgets/base",
            "_view_module_version": "1.2.0",
            "_view_name": "LayoutView",
            "align_content": null,
            "align_items": null,
            "align_self": null,
            "border": null,
            "bottom": null,
            "display": null,
            "flex": null,
            "flex_flow": null,
            "grid_area": null,
            "grid_auto_columns": null,
            "grid_auto_flow": null,
            "grid_auto_rows": null,
            "grid_column": null,
            "grid_gap": null,
            "grid_row": null,
            "grid_template_areas": null,
            "grid_template_columns": null,
            "grid_template_rows": null,
            "height": null,
            "justify_content": null,
            "justify_items": null,
            "left": null,
            "margin": null,
            "max_height": null,
            "max_width": null,
            "min_height": null,
            "min_width": null,
            "object_fit": null,
            "object_position": null,
            "order": null,
            "overflow": null,
            "overflow_x": null,
            "overflow_y": null,
            "padding": null,
            "right": null,
            "top": null,
            "visibility": null,
            "width": null
          }
        },
        "c46f7200e73d4b4984051228e7bcd69e": {
          "model_module": "@jupyter-widgets/base",
          "model_name": "LayoutModel",
          "model_module_version": "1.2.0",
          "state": {
            "_model_module": "@jupyter-widgets/base",
            "_model_module_version": "1.2.0",
            "_model_name": "LayoutModel",
            "_view_count": null,
            "_view_module": "@jupyter-widgets/base",
            "_view_module_version": "1.2.0",
            "_view_name": "LayoutView",
            "align_content": null,
            "align_items": null,
            "align_self": null,
            "border": null,
            "bottom": null,
            "display": null,
            "flex": null,
            "flex_flow": null,
            "grid_area": null,
            "grid_auto_columns": null,
            "grid_auto_flow": null,
            "grid_auto_rows": null,
            "grid_column": null,
            "grid_gap": null,
            "grid_row": null,
            "grid_template_areas": null,
            "grid_template_columns": null,
            "grid_template_rows": null,
            "height": null,
            "justify_content": null,
            "justify_items": null,
            "left": null,
            "margin": null,
            "max_height": null,
            "max_width": null,
            "min_height": null,
            "min_width": null,
            "object_fit": null,
            "object_position": null,
            "order": null,
            "overflow": null,
            "overflow_x": null,
            "overflow_y": null,
            "padding": null,
            "right": null,
            "top": null,
            "visibility": null,
            "width": null
          }
        },
        "8f73ae96af124d11b85e1ba2842da267": {
          "model_module": "@jupyter-widgets/controls",
          "model_name": "DescriptionStyleModel",
          "model_module_version": "1.5.0",
          "state": {
            "_model_module": "@jupyter-widgets/controls",
            "_model_module_version": "1.5.0",
            "_model_name": "DescriptionStyleModel",
            "_view_count": null,
            "_view_module": "@jupyter-widgets/base",
            "_view_module_version": "1.2.0",
            "_view_name": "StyleView",
            "description_width": ""
          }
        },
        "09af0fdf0f5448f7a37613083ba20bb0": {
          "model_module": "@jupyter-widgets/base",
          "model_name": "LayoutModel",
          "model_module_version": "1.2.0",
          "state": {
            "_model_module": "@jupyter-widgets/base",
            "_model_module_version": "1.2.0",
            "_model_name": "LayoutModel",
            "_view_count": null,
            "_view_module": "@jupyter-widgets/base",
            "_view_module_version": "1.2.0",
            "_view_name": "LayoutView",
            "align_content": null,
            "align_items": null,
            "align_self": null,
            "border": null,
            "bottom": null,
            "display": null,
            "flex": null,
            "flex_flow": null,
            "grid_area": null,
            "grid_auto_columns": null,
            "grid_auto_flow": null,
            "grid_auto_rows": null,
            "grid_column": null,
            "grid_gap": null,
            "grid_row": null,
            "grid_template_areas": null,
            "grid_template_columns": null,
            "grid_template_rows": null,
            "height": null,
            "justify_content": null,
            "justify_items": null,
            "left": null,
            "margin": null,
            "max_height": null,
            "max_width": null,
            "min_height": null,
            "min_width": null,
            "object_fit": null,
            "object_position": null,
            "order": null,
            "overflow": null,
            "overflow_x": null,
            "overflow_y": null,
            "padding": null,
            "right": null,
            "top": null,
            "visibility": null,
            "width": null
          }
        },
        "b8af177823c644a098add43b1dc3284a": {
          "model_module": "@jupyter-widgets/controls",
          "model_name": "ProgressStyleModel",
          "model_module_version": "1.5.0",
          "state": {
            "_model_module": "@jupyter-widgets/controls",
            "_model_module_version": "1.5.0",
            "_model_name": "ProgressStyleModel",
            "_view_count": null,
            "_view_module": "@jupyter-widgets/base",
            "_view_module_version": "1.2.0",
            "_view_name": "StyleView",
            "bar_color": null,
            "description_width": ""
          }
        },
        "3d0745a7c8d541709aed3471f4eb1440": {
          "model_module": "@jupyter-widgets/base",
          "model_name": "LayoutModel",
          "model_module_version": "1.2.0",
          "state": {
            "_model_module": "@jupyter-widgets/base",
            "_model_module_version": "1.2.0",
            "_model_name": "LayoutModel",
            "_view_count": null,
            "_view_module": "@jupyter-widgets/base",
            "_view_module_version": "1.2.0",
            "_view_name": "LayoutView",
            "align_content": null,
            "align_items": null,
            "align_self": null,
            "border": null,
            "bottom": null,
            "display": null,
            "flex": null,
            "flex_flow": null,
            "grid_area": null,
            "grid_auto_columns": null,
            "grid_auto_flow": null,
            "grid_auto_rows": null,
            "grid_column": null,
            "grid_gap": null,
            "grid_row": null,
            "grid_template_areas": null,
            "grid_template_columns": null,
            "grid_template_rows": null,
            "height": null,
            "justify_content": null,
            "justify_items": null,
            "left": null,
            "margin": null,
            "max_height": null,
            "max_width": null,
            "min_height": null,
            "min_width": null,
            "object_fit": null,
            "object_position": null,
            "order": null,
            "overflow": null,
            "overflow_x": null,
            "overflow_y": null,
            "padding": null,
            "right": null,
            "top": null,
            "visibility": null,
            "width": null
          }
        },
        "67bb709368eb4838b8c99be35dad44af": {
          "model_module": "@jupyter-widgets/controls",
          "model_name": "DescriptionStyleModel",
          "model_module_version": "1.5.0",
          "state": {
            "_model_module": "@jupyter-widgets/controls",
            "_model_module_version": "1.5.0",
            "_model_name": "DescriptionStyleModel",
            "_view_count": null,
            "_view_module": "@jupyter-widgets/base",
            "_view_module_version": "1.2.0",
            "_view_name": "StyleView",
            "description_width": ""
          }
        },
        "46bbba082744473c92eae5d9e3637214": {
          "model_module": "@jupyter-widgets/controls",
          "model_name": "HBoxModel",
          "model_module_version": "1.5.0",
          "state": {
            "_dom_classes": [],
            "_model_module": "@jupyter-widgets/controls",
            "_model_module_version": "1.5.0",
            "_model_name": "HBoxModel",
            "_view_count": null,
            "_view_module": "@jupyter-widgets/controls",
            "_view_module_version": "1.5.0",
            "_view_name": "HBoxView",
            "box_style": "",
            "children": [
              "IPY_MODEL_fe2caaf428b14871913c71959ba73643",
              "IPY_MODEL_424c8d5f5d634db486f91ed27c8a55cd",
              "IPY_MODEL_d8184a00b87645b7804c88e5f5b4f543"
            ],
            "layout": "IPY_MODEL_d508ce86e702424790f8c810aa02e352"
          }
        },
        "fe2caaf428b14871913c71959ba73643": {
          "model_module": "@jupyter-widgets/controls",
          "model_name": "HTMLModel",
          "model_module_version": "1.5.0",
          "state": {
            "_dom_classes": [],
            "_model_module": "@jupyter-widgets/controls",
            "_model_module_version": "1.5.0",
            "_model_name": "HTMLModel",
            "_view_count": null,
            "_view_module": "@jupyter-widgets/controls",
            "_view_module_version": "1.5.0",
            "_view_name": "HTMLView",
            "description": "",
            "description_tooltip": null,
            "layout": "IPY_MODEL_cdf8ce4537214e9d827af1a5dfc98d00",
            "placeholder": "​",
            "style": "IPY_MODEL_cc872db9db644fd1831e23671592c0ad",
            "value": "sentence_bert_config.json: 100%"
          }
        },
        "424c8d5f5d634db486f91ed27c8a55cd": {
          "model_module": "@jupyter-widgets/controls",
          "model_name": "FloatProgressModel",
          "model_module_version": "1.5.0",
          "state": {
            "_dom_classes": [],
            "_model_module": "@jupyter-widgets/controls",
            "_model_module_version": "1.5.0",
            "_model_name": "FloatProgressModel",
            "_view_count": null,
            "_view_module": "@jupyter-widgets/controls",
            "_view_module_version": "1.5.0",
            "_view_name": "ProgressView",
            "bar_style": "success",
            "description": "",
            "description_tooltip": null,
            "layout": "IPY_MODEL_20a991ae342448abad07b945dcb9f7ed",
            "max": 53,
            "min": 0,
            "orientation": "horizontal",
            "style": "IPY_MODEL_55d07d9ef3854b11888edf6cd19d8d0d",
            "value": 53
          }
        },
        "d8184a00b87645b7804c88e5f5b4f543": {
          "model_module": "@jupyter-widgets/controls",
          "model_name": "HTMLModel",
          "model_module_version": "1.5.0",
          "state": {
            "_dom_classes": [],
            "_model_module": "@jupyter-widgets/controls",
            "_model_module_version": "1.5.0",
            "_model_name": "HTMLModel",
            "_view_count": null,
            "_view_module": "@jupyter-widgets/controls",
            "_view_module_version": "1.5.0",
            "_view_name": "HTMLView",
            "description": "",
            "description_tooltip": null,
            "layout": "IPY_MODEL_69f0adbe26194e14828a78278a287171",
            "placeholder": "​",
            "style": "IPY_MODEL_0a8b9cb9cba644109095c3cc0dfae77f",
            "value": " 53.0/53.0 [00:00&lt;00:00, 1.94kB/s]"
          }
        },
        "d508ce86e702424790f8c810aa02e352": {
          "model_module": "@jupyter-widgets/base",
          "model_name": "LayoutModel",
          "model_module_version": "1.2.0",
          "state": {
            "_model_module": "@jupyter-widgets/base",
            "_model_module_version": "1.2.0",
            "_model_name": "LayoutModel",
            "_view_count": null,
            "_view_module": "@jupyter-widgets/base",
            "_view_module_version": "1.2.0",
            "_view_name": "LayoutView",
            "align_content": null,
            "align_items": null,
            "align_self": null,
            "border": null,
            "bottom": null,
            "display": null,
            "flex": null,
            "flex_flow": null,
            "grid_area": null,
            "grid_auto_columns": null,
            "grid_auto_flow": null,
            "grid_auto_rows": null,
            "grid_column": null,
            "grid_gap": null,
            "grid_row": null,
            "grid_template_areas": null,
            "grid_template_columns": null,
            "grid_template_rows": null,
            "height": null,
            "justify_content": null,
            "justify_items": null,
            "left": null,
            "margin": null,
            "max_height": null,
            "max_width": null,
            "min_height": null,
            "min_width": null,
            "object_fit": null,
            "object_position": null,
            "order": null,
            "overflow": null,
            "overflow_x": null,
            "overflow_y": null,
            "padding": null,
            "right": null,
            "top": null,
            "visibility": null,
            "width": null
          }
        },
        "cdf8ce4537214e9d827af1a5dfc98d00": {
          "model_module": "@jupyter-widgets/base",
          "model_name": "LayoutModel",
          "model_module_version": "1.2.0",
          "state": {
            "_model_module": "@jupyter-widgets/base",
            "_model_module_version": "1.2.0",
            "_model_name": "LayoutModel",
            "_view_count": null,
            "_view_module": "@jupyter-widgets/base",
            "_view_module_version": "1.2.0",
            "_view_name": "LayoutView",
            "align_content": null,
            "align_items": null,
            "align_self": null,
            "border": null,
            "bottom": null,
            "display": null,
            "flex": null,
            "flex_flow": null,
            "grid_area": null,
            "grid_auto_columns": null,
            "grid_auto_flow": null,
            "grid_auto_rows": null,
            "grid_column": null,
            "grid_gap": null,
            "grid_row": null,
            "grid_template_areas": null,
            "grid_template_columns": null,
            "grid_template_rows": null,
            "height": null,
            "justify_content": null,
            "justify_items": null,
            "left": null,
            "margin": null,
            "max_height": null,
            "max_width": null,
            "min_height": null,
            "min_width": null,
            "object_fit": null,
            "object_position": null,
            "order": null,
            "overflow": null,
            "overflow_x": null,
            "overflow_y": null,
            "padding": null,
            "right": null,
            "top": null,
            "visibility": null,
            "width": null
          }
        },
        "cc872db9db644fd1831e23671592c0ad": {
          "model_module": "@jupyter-widgets/controls",
          "model_name": "DescriptionStyleModel",
          "model_module_version": "1.5.0",
          "state": {
            "_model_module": "@jupyter-widgets/controls",
            "_model_module_version": "1.5.0",
            "_model_name": "DescriptionStyleModel",
            "_view_count": null,
            "_view_module": "@jupyter-widgets/base",
            "_view_module_version": "1.2.0",
            "_view_name": "StyleView",
            "description_width": ""
          }
        },
        "20a991ae342448abad07b945dcb9f7ed": {
          "model_module": "@jupyter-widgets/base",
          "model_name": "LayoutModel",
          "model_module_version": "1.2.0",
          "state": {
            "_model_module": "@jupyter-widgets/base",
            "_model_module_version": "1.2.0",
            "_model_name": "LayoutModel",
            "_view_count": null,
            "_view_module": "@jupyter-widgets/base",
            "_view_module_version": "1.2.0",
            "_view_name": "LayoutView",
            "align_content": null,
            "align_items": null,
            "align_self": null,
            "border": null,
            "bottom": null,
            "display": null,
            "flex": null,
            "flex_flow": null,
            "grid_area": null,
            "grid_auto_columns": null,
            "grid_auto_flow": null,
            "grid_auto_rows": null,
            "grid_column": null,
            "grid_gap": null,
            "grid_row": null,
            "grid_template_areas": null,
            "grid_template_columns": null,
            "grid_template_rows": null,
            "height": null,
            "justify_content": null,
            "justify_items": null,
            "left": null,
            "margin": null,
            "max_height": null,
            "max_width": null,
            "min_height": null,
            "min_width": null,
            "object_fit": null,
            "object_position": null,
            "order": null,
            "overflow": null,
            "overflow_x": null,
            "overflow_y": null,
            "padding": null,
            "right": null,
            "top": null,
            "visibility": null,
            "width": null
          }
        },
        "55d07d9ef3854b11888edf6cd19d8d0d": {
          "model_module": "@jupyter-widgets/controls",
          "model_name": "ProgressStyleModel",
          "model_module_version": "1.5.0",
          "state": {
            "_model_module": "@jupyter-widgets/controls",
            "_model_module_version": "1.5.0",
            "_model_name": "ProgressStyleModel",
            "_view_count": null,
            "_view_module": "@jupyter-widgets/base",
            "_view_module_version": "1.2.0",
            "_view_name": "StyleView",
            "bar_color": null,
            "description_width": ""
          }
        },
        "69f0adbe26194e14828a78278a287171": {
          "model_module": "@jupyter-widgets/base",
          "model_name": "LayoutModel",
          "model_module_version": "1.2.0",
          "state": {
            "_model_module": "@jupyter-widgets/base",
            "_model_module_version": "1.2.0",
            "_model_name": "LayoutModel",
            "_view_count": null,
            "_view_module": "@jupyter-widgets/base",
            "_view_module_version": "1.2.0",
            "_view_name": "LayoutView",
            "align_content": null,
            "align_items": null,
            "align_self": null,
            "border": null,
            "bottom": null,
            "display": null,
            "flex": null,
            "flex_flow": null,
            "grid_area": null,
            "grid_auto_columns": null,
            "grid_auto_flow": null,
            "grid_auto_rows": null,
            "grid_column": null,
            "grid_gap": null,
            "grid_row": null,
            "grid_template_areas": null,
            "grid_template_columns": null,
            "grid_template_rows": null,
            "height": null,
            "justify_content": null,
            "justify_items": null,
            "left": null,
            "margin": null,
            "max_height": null,
            "max_width": null,
            "min_height": null,
            "min_width": null,
            "object_fit": null,
            "object_position": null,
            "order": null,
            "overflow": null,
            "overflow_x": null,
            "overflow_y": null,
            "padding": null,
            "right": null,
            "top": null,
            "visibility": null,
            "width": null
          }
        },
        "0a8b9cb9cba644109095c3cc0dfae77f": {
          "model_module": "@jupyter-widgets/controls",
          "model_name": "DescriptionStyleModel",
          "model_module_version": "1.5.0",
          "state": {
            "_model_module": "@jupyter-widgets/controls",
            "_model_module_version": "1.5.0",
            "_model_name": "DescriptionStyleModel",
            "_view_count": null,
            "_view_module": "@jupyter-widgets/base",
            "_view_module_version": "1.2.0",
            "_view_name": "StyleView",
            "description_width": ""
          }
        },
        "f4940a6dc5cb4b03ba381beeec8fff68": {
          "model_module": "@jupyter-widgets/controls",
          "model_name": "HBoxModel",
          "model_module_version": "1.5.0",
          "state": {
            "_dom_classes": [],
            "_model_module": "@jupyter-widgets/controls",
            "_model_module_version": "1.5.0",
            "_model_name": "HBoxModel",
            "_view_count": null,
            "_view_module": "@jupyter-widgets/controls",
            "_view_module_version": "1.5.0",
            "_view_name": "HBoxView",
            "box_style": "",
            "children": [
              "IPY_MODEL_0841b140be13439789b897947ce812d0",
              "IPY_MODEL_5df1c09c454a497991201dda48e74ccf",
              "IPY_MODEL_a6ae78bed71a4d7ca5aa3a71207d462f"
            ],
            "layout": "IPY_MODEL_b936a1c3830e4bd7a9b9f6346a871071"
          }
        },
        "0841b140be13439789b897947ce812d0": {
          "model_module": "@jupyter-widgets/controls",
          "model_name": "HTMLModel",
          "model_module_version": "1.5.0",
          "state": {
            "_dom_classes": [],
            "_model_module": "@jupyter-widgets/controls",
            "_model_module_version": "1.5.0",
            "_model_name": "HTMLModel",
            "_view_count": null,
            "_view_module": "@jupyter-widgets/controls",
            "_view_module_version": "1.5.0",
            "_view_name": "HTMLView",
            "description": "",
            "description_tooltip": null,
            "layout": "IPY_MODEL_14a93adbed95427eb454d0f8d5e65eee",
            "placeholder": "​",
            "style": "IPY_MODEL_8ad1b801639e44238988ba74cf391071",
            "value": "config.json: 100%"
          }
        },
        "5df1c09c454a497991201dda48e74ccf": {
          "model_module": "@jupyter-widgets/controls",
          "model_name": "FloatProgressModel",
          "model_module_version": "1.5.0",
          "state": {
            "_dom_classes": [],
            "_model_module": "@jupyter-widgets/controls",
            "_model_module_version": "1.5.0",
            "_model_name": "FloatProgressModel",
            "_view_count": null,
            "_view_module": "@jupyter-widgets/controls",
            "_view_module_version": "1.5.0",
            "_view_name": "ProgressView",
            "bar_style": "success",
            "description": "",
            "description_tooltip": null,
            "layout": "IPY_MODEL_e5edc479913f405a91e9dee7b6d0c893",
            "max": 831,
            "min": 0,
            "orientation": "horizontal",
            "style": "IPY_MODEL_01a3f53541a346b2a7344a7dc5f0a1f6",
            "value": 831
          }
        },
        "a6ae78bed71a4d7ca5aa3a71207d462f": {
          "model_module": "@jupyter-widgets/controls",
          "model_name": "HTMLModel",
          "model_module_version": "1.5.0",
          "state": {
            "_dom_classes": [],
            "_model_module": "@jupyter-widgets/controls",
            "_model_module_version": "1.5.0",
            "_model_name": "HTMLModel",
            "_view_count": null,
            "_view_module": "@jupyter-widgets/controls",
            "_view_module_version": "1.5.0",
            "_view_name": "HTMLView",
            "description": "",
            "description_tooltip": null,
            "layout": "IPY_MODEL_d3ee35231d7047aeaa1e9ac42b5b9283",
            "placeholder": "​",
            "style": "IPY_MODEL_1c2e0b040d9f42ed88f77e00d133f105",
            "value": " 831/831 [00:00&lt;00:00, 20.0kB/s]"
          }
        },
        "b936a1c3830e4bd7a9b9f6346a871071": {
          "model_module": "@jupyter-widgets/base",
          "model_name": "LayoutModel",
          "model_module_version": "1.2.0",
          "state": {
            "_model_module": "@jupyter-widgets/base",
            "_model_module_version": "1.2.0",
            "_model_name": "LayoutModel",
            "_view_count": null,
            "_view_module": "@jupyter-widgets/base",
            "_view_module_version": "1.2.0",
            "_view_name": "LayoutView",
            "align_content": null,
            "align_items": null,
            "align_self": null,
            "border": null,
            "bottom": null,
            "display": null,
            "flex": null,
            "flex_flow": null,
            "grid_area": null,
            "grid_auto_columns": null,
            "grid_auto_flow": null,
            "grid_auto_rows": null,
            "grid_column": null,
            "grid_gap": null,
            "grid_row": null,
            "grid_template_areas": null,
            "grid_template_columns": null,
            "grid_template_rows": null,
            "height": null,
            "justify_content": null,
            "justify_items": null,
            "left": null,
            "margin": null,
            "max_height": null,
            "max_width": null,
            "min_height": null,
            "min_width": null,
            "object_fit": null,
            "object_position": null,
            "order": null,
            "overflow": null,
            "overflow_x": null,
            "overflow_y": null,
            "padding": null,
            "right": null,
            "top": null,
            "visibility": null,
            "width": null
          }
        },
        "14a93adbed95427eb454d0f8d5e65eee": {
          "model_module": "@jupyter-widgets/base",
          "model_name": "LayoutModel",
          "model_module_version": "1.2.0",
          "state": {
            "_model_module": "@jupyter-widgets/base",
            "_model_module_version": "1.2.0",
            "_model_name": "LayoutModel",
            "_view_count": null,
            "_view_module": "@jupyter-widgets/base",
            "_view_module_version": "1.2.0",
            "_view_name": "LayoutView",
            "align_content": null,
            "align_items": null,
            "align_self": null,
            "border": null,
            "bottom": null,
            "display": null,
            "flex": null,
            "flex_flow": null,
            "grid_area": null,
            "grid_auto_columns": null,
            "grid_auto_flow": null,
            "grid_auto_rows": null,
            "grid_column": null,
            "grid_gap": null,
            "grid_row": null,
            "grid_template_areas": null,
            "grid_template_columns": null,
            "grid_template_rows": null,
            "height": null,
            "justify_content": null,
            "justify_items": null,
            "left": null,
            "margin": null,
            "max_height": null,
            "max_width": null,
            "min_height": null,
            "min_width": null,
            "object_fit": null,
            "object_position": null,
            "order": null,
            "overflow": null,
            "overflow_x": null,
            "overflow_y": null,
            "padding": null,
            "right": null,
            "top": null,
            "visibility": null,
            "width": null
          }
        },
        "8ad1b801639e44238988ba74cf391071": {
          "model_module": "@jupyter-widgets/controls",
          "model_name": "DescriptionStyleModel",
          "model_module_version": "1.5.0",
          "state": {
            "_model_module": "@jupyter-widgets/controls",
            "_model_module_version": "1.5.0",
            "_model_name": "DescriptionStyleModel",
            "_view_count": null,
            "_view_module": "@jupyter-widgets/base",
            "_view_module_version": "1.2.0",
            "_view_name": "StyleView",
            "description_width": ""
          }
        },
        "e5edc479913f405a91e9dee7b6d0c893": {
          "model_module": "@jupyter-widgets/base",
          "model_name": "LayoutModel",
          "model_module_version": "1.2.0",
          "state": {
            "_model_module": "@jupyter-widgets/base",
            "_model_module_version": "1.2.0",
            "_model_name": "LayoutModel",
            "_view_count": null,
            "_view_module": "@jupyter-widgets/base",
            "_view_module_version": "1.2.0",
            "_view_name": "LayoutView",
            "align_content": null,
            "align_items": null,
            "align_self": null,
            "border": null,
            "bottom": null,
            "display": null,
            "flex": null,
            "flex_flow": null,
            "grid_area": null,
            "grid_auto_columns": null,
            "grid_auto_flow": null,
            "grid_auto_rows": null,
            "grid_column": null,
            "grid_gap": null,
            "grid_row": null,
            "grid_template_areas": null,
            "grid_template_columns": null,
            "grid_template_rows": null,
            "height": null,
            "justify_content": null,
            "justify_items": null,
            "left": null,
            "margin": null,
            "max_height": null,
            "max_width": null,
            "min_height": null,
            "min_width": null,
            "object_fit": null,
            "object_position": null,
            "order": null,
            "overflow": null,
            "overflow_x": null,
            "overflow_y": null,
            "padding": null,
            "right": null,
            "top": null,
            "visibility": null,
            "width": null
          }
        },
        "01a3f53541a346b2a7344a7dc5f0a1f6": {
          "model_module": "@jupyter-widgets/controls",
          "model_name": "ProgressStyleModel",
          "model_module_version": "1.5.0",
          "state": {
            "_model_module": "@jupyter-widgets/controls",
            "_model_module_version": "1.5.0",
            "_model_name": "ProgressStyleModel",
            "_view_count": null,
            "_view_module": "@jupyter-widgets/base",
            "_view_module_version": "1.2.0",
            "_view_name": "StyleView",
            "bar_color": null,
            "description_width": ""
          }
        },
        "d3ee35231d7047aeaa1e9ac42b5b9283": {
          "model_module": "@jupyter-widgets/base",
          "model_name": "LayoutModel",
          "model_module_version": "1.2.0",
          "state": {
            "_model_module": "@jupyter-widgets/base",
            "_model_module_version": "1.2.0",
            "_model_name": "LayoutModel",
            "_view_count": null,
            "_view_module": "@jupyter-widgets/base",
            "_view_module_version": "1.2.0",
            "_view_name": "LayoutView",
            "align_content": null,
            "align_items": null,
            "align_self": null,
            "border": null,
            "bottom": null,
            "display": null,
            "flex": null,
            "flex_flow": null,
            "grid_area": null,
            "grid_auto_columns": null,
            "grid_auto_flow": null,
            "grid_auto_rows": null,
            "grid_column": null,
            "grid_gap": null,
            "grid_row": null,
            "grid_template_areas": null,
            "grid_template_columns": null,
            "grid_template_rows": null,
            "height": null,
            "justify_content": null,
            "justify_items": null,
            "left": null,
            "margin": null,
            "max_height": null,
            "max_width": null,
            "min_height": null,
            "min_width": null,
            "object_fit": null,
            "object_position": null,
            "order": null,
            "overflow": null,
            "overflow_x": null,
            "overflow_y": null,
            "padding": null,
            "right": null,
            "top": null,
            "visibility": null,
            "width": null
          }
        },
        "1c2e0b040d9f42ed88f77e00d133f105": {
          "model_module": "@jupyter-widgets/controls",
          "model_name": "DescriptionStyleModel",
          "model_module_version": "1.5.0",
          "state": {
            "_model_module": "@jupyter-widgets/controls",
            "_model_module_version": "1.5.0",
            "_model_name": "DescriptionStyleModel",
            "_view_count": null,
            "_view_module": "@jupyter-widgets/base",
            "_view_module_version": "1.2.0",
            "_view_name": "StyleView",
            "description_width": ""
          }
        },
        "5a615f2e977549f0afb6c72b03288008": {
          "model_module": "@jupyter-widgets/controls",
          "model_name": "HBoxModel",
          "model_module_version": "1.5.0",
          "state": {
            "_dom_classes": [],
            "_model_module": "@jupyter-widgets/controls",
            "_model_module_version": "1.5.0",
            "_model_name": "HBoxModel",
            "_view_count": null,
            "_view_module": "@jupyter-widgets/controls",
            "_view_module_version": "1.5.0",
            "_view_name": "HBoxView",
            "box_style": "",
            "children": [
              "IPY_MODEL_cedf490308604437bc981f333efc0f95",
              "IPY_MODEL_b8650764d7d448b781061deb4d3ee905",
              "IPY_MODEL_49cc62394f854ab896543468e56e09ee"
            ],
            "layout": "IPY_MODEL_9e2678e6fbd84bb783f53ced88bd78cb"
          }
        },
        "cedf490308604437bc981f333efc0f95": {
          "model_module": "@jupyter-widgets/controls",
          "model_name": "HTMLModel",
          "model_module_version": "1.5.0",
          "state": {
            "_dom_classes": [],
            "_model_module": "@jupyter-widgets/controls",
            "_model_module_version": "1.5.0",
            "_model_name": "HTMLModel",
            "_view_count": null,
            "_view_module": "@jupyter-widgets/controls",
            "_view_module_version": "1.5.0",
            "_view_name": "HTMLView",
            "description": "",
            "description_tooltip": null,
            "layout": "IPY_MODEL_5a28f610e57b45e5948534430ba229c1",
            "placeholder": "​",
            "style": "IPY_MODEL_9703c34950b84216923ab101c64803a6",
            "value": "pytorch_model.bin: 100%"
          }
        },
        "b8650764d7d448b781061deb4d3ee905": {
          "model_module": "@jupyter-widgets/controls",
          "model_name": "FloatProgressModel",
          "model_module_version": "1.5.0",
          "state": {
            "_dom_classes": [],
            "_model_module": "@jupyter-widgets/controls",
            "_model_module_version": "1.5.0",
            "_model_name": "FloatProgressModel",
            "_view_count": null,
            "_view_module": "@jupyter-widgets/controls",
            "_view_module_version": "1.5.0",
            "_view_name": "ProgressView",
            "bar_style": "success",
            "description": "",
            "description_tooltip": null,
            "layout": "IPY_MODEL_40a5069bf7ef49a59efc2f8f4dcea4bb",
            "max": 437998385,
            "min": 0,
            "orientation": "horizontal",
            "style": "IPY_MODEL_bb7143e8316a4dd1bfc9f594befead01",
            "value": 437998385
          }
        },
        "49cc62394f854ab896543468e56e09ee": {
          "model_module": "@jupyter-widgets/controls",
          "model_name": "HTMLModel",
          "model_module_version": "1.5.0",
          "state": {
            "_dom_classes": [],
            "_model_module": "@jupyter-widgets/controls",
            "_model_module_version": "1.5.0",
            "_model_name": "HTMLModel",
            "_view_count": null,
            "_view_module": "@jupyter-widgets/controls",
            "_view_module_version": "1.5.0",
            "_view_name": "HTMLView",
            "description": "",
            "description_tooltip": null,
            "layout": "IPY_MODEL_5867792a4ded4fb893136c20eca82a1e",
            "placeholder": "​",
            "style": "IPY_MODEL_a0ecaf24e7344a399a5b544792c125e0",
            "value": " 438M/438M [00:03&lt;00:00, 165MB/s]"
          }
        },
        "9e2678e6fbd84bb783f53ced88bd78cb": {
          "model_module": "@jupyter-widgets/base",
          "model_name": "LayoutModel",
          "model_module_version": "1.2.0",
          "state": {
            "_model_module": "@jupyter-widgets/base",
            "_model_module_version": "1.2.0",
            "_model_name": "LayoutModel",
            "_view_count": null,
            "_view_module": "@jupyter-widgets/base",
            "_view_module_version": "1.2.0",
            "_view_name": "LayoutView",
            "align_content": null,
            "align_items": null,
            "align_self": null,
            "border": null,
            "bottom": null,
            "display": null,
            "flex": null,
            "flex_flow": null,
            "grid_area": null,
            "grid_auto_columns": null,
            "grid_auto_flow": null,
            "grid_auto_rows": null,
            "grid_column": null,
            "grid_gap": null,
            "grid_row": null,
            "grid_template_areas": null,
            "grid_template_columns": null,
            "grid_template_rows": null,
            "height": null,
            "justify_content": null,
            "justify_items": null,
            "left": null,
            "margin": null,
            "max_height": null,
            "max_width": null,
            "min_height": null,
            "min_width": null,
            "object_fit": null,
            "object_position": null,
            "order": null,
            "overflow": null,
            "overflow_x": null,
            "overflow_y": null,
            "padding": null,
            "right": null,
            "top": null,
            "visibility": null,
            "width": null
          }
        },
        "5a28f610e57b45e5948534430ba229c1": {
          "model_module": "@jupyter-widgets/base",
          "model_name": "LayoutModel",
          "model_module_version": "1.2.0",
          "state": {
            "_model_module": "@jupyter-widgets/base",
            "_model_module_version": "1.2.0",
            "_model_name": "LayoutModel",
            "_view_count": null,
            "_view_module": "@jupyter-widgets/base",
            "_view_module_version": "1.2.0",
            "_view_name": "LayoutView",
            "align_content": null,
            "align_items": null,
            "align_self": null,
            "border": null,
            "bottom": null,
            "display": null,
            "flex": null,
            "flex_flow": null,
            "grid_area": null,
            "grid_auto_columns": null,
            "grid_auto_flow": null,
            "grid_auto_rows": null,
            "grid_column": null,
            "grid_gap": null,
            "grid_row": null,
            "grid_template_areas": null,
            "grid_template_columns": null,
            "grid_template_rows": null,
            "height": null,
            "justify_content": null,
            "justify_items": null,
            "left": null,
            "margin": null,
            "max_height": null,
            "max_width": null,
            "min_height": null,
            "min_width": null,
            "object_fit": null,
            "object_position": null,
            "order": null,
            "overflow": null,
            "overflow_x": null,
            "overflow_y": null,
            "padding": null,
            "right": null,
            "top": null,
            "visibility": null,
            "width": null
          }
        },
        "9703c34950b84216923ab101c64803a6": {
          "model_module": "@jupyter-widgets/controls",
          "model_name": "DescriptionStyleModel",
          "model_module_version": "1.5.0",
          "state": {
            "_model_module": "@jupyter-widgets/controls",
            "_model_module_version": "1.5.0",
            "_model_name": "DescriptionStyleModel",
            "_view_count": null,
            "_view_module": "@jupyter-widgets/base",
            "_view_module_version": "1.2.0",
            "_view_name": "StyleView",
            "description_width": ""
          }
        },
        "40a5069bf7ef49a59efc2f8f4dcea4bb": {
          "model_module": "@jupyter-widgets/base",
          "model_name": "LayoutModel",
          "model_module_version": "1.2.0",
          "state": {
            "_model_module": "@jupyter-widgets/base",
            "_model_module_version": "1.2.0",
            "_model_name": "LayoutModel",
            "_view_count": null,
            "_view_module": "@jupyter-widgets/base",
            "_view_module_version": "1.2.0",
            "_view_name": "LayoutView",
            "align_content": null,
            "align_items": null,
            "align_self": null,
            "border": null,
            "bottom": null,
            "display": null,
            "flex": null,
            "flex_flow": null,
            "grid_area": null,
            "grid_auto_columns": null,
            "grid_auto_flow": null,
            "grid_auto_rows": null,
            "grid_column": null,
            "grid_gap": null,
            "grid_row": null,
            "grid_template_areas": null,
            "grid_template_columns": null,
            "grid_template_rows": null,
            "height": null,
            "justify_content": null,
            "justify_items": null,
            "left": null,
            "margin": null,
            "max_height": null,
            "max_width": null,
            "min_height": null,
            "min_width": null,
            "object_fit": null,
            "object_position": null,
            "order": null,
            "overflow": null,
            "overflow_x": null,
            "overflow_y": null,
            "padding": null,
            "right": null,
            "top": null,
            "visibility": null,
            "width": null
          }
        },
        "bb7143e8316a4dd1bfc9f594befead01": {
          "model_module": "@jupyter-widgets/controls",
          "model_name": "ProgressStyleModel",
          "model_module_version": "1.5.0",
          "state": {
            "_model_module": "@jupyter-widgets/controls",
            "_model_module_version": "1.5.0",
            "_model_name": "ProgressStyleModel",
            "_view_count": null,
            "_view_module": "@jupyter-widgets/base",
            "_view_module_version": "1.2.0",
            "_view_name": "StyleView",
            "bar_color": null,
            "description_width": ""
          }
        },
        "5867792a4ded4fb893136c20eca82a1e": {
          "model_module": "@jupyter-widgets/base",
          "model_name": "LayoutModel",
          "model_module_version": "1.2.0",
          "state": {
            "_model_module": "@jupyter-widgets/base",
            "_model_module_version": "1.2.0",
            "_model_name": "LayoutModel",
            "_view_count": null,
            "_view_module": "@jupyter-widgets/base",
            "_view_module_version": "1.2.0",
            "_view_name": "LayoutView",
            "align_content": null,
            "align_items": null,
            "align_self": null,
            "border": null,
            "bottom": null,
            "display": null,
            "flex": null,
            "flex_flow": null,
            "grid_area": null,
            "grid_auto_columns": null,
            "grid_auto_flow": null,
            "grid_auto_rows": null,
            "grid_column": null,
            "grid_gap": null,
            "grid_row": null,
            "grid_template_areas": null,
            "grid_template_columns": null,
            "grid_template_rows": null,
            "height": null,
            "justify_content": null,
            "justify_items": null,
            "left": null,
            "margin": null,
            "max_height": null,
            "max_width": null,
            "min_height": null,
            "min_width": null,
            "object_fit": null,
            "object_position": null,
            "order": null,
            "overflow": null,
            "overflow_x": null,
            "overflow_y": null,
            "padding": null,
            "right": null,
            "top": null,
            "visibility": null,
            "width": null
          }
        },
        "a0ecaf24e7344a399a5b544792c125e0": {
          "model_module": "@jupyter-widgets/controls",
          "model_name": "DescriptionStyleModel",
          "model_module_version": "1.5.0",
          "state": {
            "_model_module": "@jupyter-widgets/controls",
            "_model_module_version": "1.5.0",
            "_model_name": "DescriptionStyleModel",
            "_view_count": null,
            "_view_module": "@jupyter-widgets/base",
            "_view_module_version": "1.2.0",
            "_view_name": "StyleView",
            "description_width": ""
          }
        },
        "3434ba7f7a844049a664a8cd4736900d": {
          "model_module": "@jupyter-widgets/controls",
          "model_name": "HBoxModel",
          "model_module_version": "1.5.0",
          "state": {
            "_dom_classes": [],
            "_model_module": "@jupyter-widgets/controls",
            "_model_module_version": "1.5.0",
            "_model_name": "HBoxModel",
            "_view_count": null,
            "_view_module": "@jupyter-widgets/controls",
            "_view_module_version": "1.5.0",
            "_view_name": "HBoxView",
            "box_style": "",
            "children": [
              "IPY_MODEL_14589f212b4b4b7a863d5248ad0e6f18",
              "IPY_MODEL_bf59ab4f5c91414296067e6f7b83e599",
              "IPY_MODEL_80ec22481d2c4aa6be8c3c72127c84dd"
            ],
            "layout": "IPY_MODEL_b670ef6a965a4cfa82653d3a3a58f5bc"
          }
        },
        "14589f212b4b4b7a863d5248ad0e6f18": {
          "model_module": "@jupyter-widgets/controls",
          "model_name": "HTMLModel",
          "model_module_version": "1.5.0",
          "state": {
            "_dom_classes": [],
            "_model_module": "@jupyter-widgets/controls",
            "_model_module_version": "1.5.0",
            "_model_name": "HTMLModel",
            "_view_count": null,
            "_view_module": "@jupyter-widgets/controls",
            "_view_module_version": "1.5.0",
            "_view_name": "HTMLView",
            "description": "",
            "description_tooltip": null,
            "layout": "IPY_MODEL_90c9c69490914e8886a977667b5523e5",
            "placeholder": "​",
            "style": "IPY_MODEL_830339915f3543778cf70cc5653277ff",
            "value": "tokenizer_config.json: 100%"
          }
        },
        "bf59ab4f5c91414296067e6f7b83e599": {
          "model_module": "@jupyter-widgets/controls",
          "model_name": "FloatProgressModel",
          "model_module_version": "1.5.0",
          "state": {
            "_dom_classes": [],
            "_model_module": "@jupyter-widgets/controls",
            "_model_module_version": "1.5.0",
            "_model_name": "FloatProgressModel",
            "_view_count": null,
            "_view_module": "@jupyter-widgets/controls",
            "_view_module_version": "1.5.0",
            "_view_name": "ProgressView",
            "bar_style": "success",
            "description": "",
            "description_tooltip": null,
            "layout": "IPY_MODEL_15af8564f2be4229993fd51671c6e354",
            "max": 439,
            "min": 0,
            "orientation": "horizontal",
            "style": "IPY_MODEL_15bb71aa23b5476dae00d9b5d1c001c6",
            "value": 439
          }
        },
        "80ec22481d2c4aa6be8c3c72127c84dd": {
          "model_module": "@jupyter-widgets/controls",
          "model_name": "HTMLModel",
          "model_module_version": "1.5.0",
          "state": {
            "_dom_classes": [],
            "_model_module": "@jupyter-widgets/controls",
            "_model_module_version": "1.5.0",
            "_model_name": "HTMLModel",
            "_view_count": null,
            "_view_module": "@jupyter-widgets/controls",
            "_view_module_version": "1.5.0",
            "_view_name": "HTMLView",
            "description": "",
            "description_tooltip": null,
            "layout": "IPY_MODEL_f8f53ab374b646a18b6d334717060187",
            "placeholder": "​",
            "style": "IPY_MODEL_c4def402a8924938868736178b8f2d89",
            "value": " 439/439 [00:00&lt;00:00, 16.9kB/s]"
          }
        },
        "b670ef6a965a4cfa82653d3a3a58f5bc": {
          "model_module": "@jupyter-widgets/base",
          "model_name": "LayoutModel",
          "model_module_version": "1.2.0",
          "state": {
            "_model_module": "@jupyter-widgets/base",
            "_model_module_version": "1.2.0",
            "_model_name": "LayoutModel",
            "_view_count": null,
            "_view_module": "@jupyter-widgets/base",
            "_view_module_version": "1.2.0",
            "_view_name": "LayoutView",
            "align_content": null,
            "align_items": null,
            "align_self": null,
            "border": null,
            "bottom": null,
            "display": null,
            "flex": null,
            "flex_flow": null,
            "grid_area": null,
            "grid_auto_columns": null,
            "grid_auto_flow": null,
            "grid_auto_rows": null,
            "grid_column": null,
            "grid_gap": null,
            "grid_row": null,
            "grid_template_areas": null,
            "grid_template_columns": null,
            "grid_template_rows": null,
            "height": null,
            "justify_content": null,
            "justify_items": null,
            "left": null,
            "margin": null,
            "max_height": null,
            "max_width": null,
            "min_height": null,
            "min_width": null,
            "object_fit": null,
            "object_position": null,
            "order": null,
            "overflow": null,
            "overflow_x": null,
            "overflow_y": null,
            "padding": null,
            "right": null,
            "top": null,
            "visibility": null,
            "width": null
          }
        },
        "90c9c69490914e8886a977667b5523e5": {
          "model_module": "@jupyter-widgets/base",
          "model_name": "LayoutModel",
          "model_module_version": "1.2.0",
          "state": {
            "_model_module": "@jupyter-widgets/base",
            "_model_module_version": "1.2.0",
            "_model_name": "LayoutModel",
            "_view_count": null,
            "_view_module": "@jupyter-widgets/base",
            "_view_module_version": "1.2.0",
            "_view_name": "LayoutView",
            "align_content": null,
            "align_items": null,
            "align_self": null,
            "border": null,
            "bottom": null,
            "display": null,
            "flex": null,
            "flex_flow": null,
            "grid_area": null,
            "grid_auto_columns": null,
            "grid_auto_flow": null,
            "grid_auto_rows": null,
            "grid_column": null,
            "grid_gap": null,
            "grid_row": null,
            "grid_template_areas": null,
            "grid_template_columns": null,
            "grid_template_rows": null,
            "height": null,
            "justify_content": null,
            "justify_items": null,
            "left": null,
            "margin": null,
            "max_height": null,
            "max_width": null,
            "min_height": null,
            "min_width": null,
            "object_fit": null,
            "object_position": null,
            "order": null,
            "overflow": null,
            "overflow_x": null,
            "overflow_y": null,
            "padding": null,
            "right": null,
            "top": null,
            "visibility": null,
            "width": null
          }
        },
        "830339915f3543778cf70cc5653277ff": {
          "model_module": "@jupyter-widgets/controls",
          "model_name": "DescriptionStyleModel",
          "model_module_version": "1.5.0",
          "state": {
            "_model_module": "@jupyter-widgets/controls",
            "_model_module_version": "1.5.0",
            "_model_name": "DescriptionStyleModel",
            "_view_count": null,
            "_view_module": "@jupyter-widgets/base",
            "_view_module_version": "1.2.0",
            "_view_name": "StyleView",
            "description_width": ""
          }
        },
        "15af8564f2be4229993fd51671c6e354": {
          "model_module": "@jupyter-widgets/base",
          "model_name": "LayoutModel",
          "model_module_version": "1.2.0",
          "state": {
            "_model_module": "@jupyter-widgets/base",
            "_model_module_version": "1.2.0",
            "_model_name": "LayoutModel",
            "_view_count": null,
            "_view_module": "@jupyter-widgets/base",
            "_view_module_version": "1.2.0",
            "_view_name": "LayoutView",
            "align_content": null,
            "align_items": null,
            "align_self": null,
            "border": null,
            "bottom": null,
            "display": null,
            "flex": null,
            "flex_flow": null,
            "grid_area": null,
            "grid_auto_columns": null,
            "grid_auto_flow": null,
            "grid_auto_rows": null,
            "grid_column": null,
            "grid_gap": null,
            "grid_row": null,
            "grid_template_areas": null,
            "grid_template_columns": null,
            "grid_template_rows": null,
            "height": null,
            "justify_content": null,
            "justify_items": null,
            "left": null,
            "margin": null,
            "max_height": null,
            "max_width": null,
            "min_height": null,
            "min_width": null,
            "object_fit": null,
            "object_position": null,
            "order": null,
            "overflow": null,
            "overflow_x": null,
            "overflow_y": null,
            "padding": null,
            "right": null,
            "top": null,
            "visibility": null,
            "width": null
          }
        },
        "15bb71aa23b5476dae00d9b5d1c001c6": {
          "model_module": "@jupyter-widgets/controls",
          "model_name": "ProgressStyleModel",
          "model_module_version": "1.5.0",
          "state": {
            "_model_module": "@jupyter-widgets/controls",
            "_model_module_version": "1.5.0",
            "_model_name": "ProgressStyleModel",
            "_view_count": null,
            "_view_module": "@jupyter-widgets/base",
            "_view_module_version": "1.2.0",
            "_view_name": "StyleView",
            "bar_color": null,
            "description_width": ""
          }
        },
        "f8f53ab374b646a18b6d334717060187": {
          "model_module": "@jupyter-widgets/base",
          "model_name": "LayoutModel",
          "model_module_version": "1.2.0",
          "state": {
            "_model_module": "@jupyter-widgets/base",
            "_model_module_version": "1.2.0",
            "_model_name": "LayoutModel",
            "_view_count": null,
            "_view_module": "@jupyter-widgets/base",
            "_view_module_version": "1.2.0",
            "_view_name": "LayoutView",
            "align_content": null,
            "align_items": null,
            "align_self": null,
            "border": null,
            "bottom": null,
            "display": null,
            "flex": null,
            "flex_flow": null,
            "grid_area": null,
            "grid_auto_columns": null,
            "grid_auto_flow": null,
            "grid_auto_rows": null,
            "grid_column": null,
            "grid_gap": null,
            "grid_row": null,
            "grid_template_areas": null,
            "grid_template_columns": null,
            "grid_template_rows": null,
            "height": null,
            "justify_content": null,
            "justify_items": null,
            "left": null,
            "margin": null,
            "max_height": null,
            "max_width": null,
            "min_height": null,
            "min_width": null,
            "object_fit": null,
            "object_position": null,
            "order": null,
            "overflow": null,
            "overflow_x": null,
            "overflow_y": null,
            "padding": null,
            "right": null,
            "top": null,
            "visibility": null,
            "width": null
          }
        },
        "c4def402a8924938868736178b8f2d89": {
          "model_module": "@jupyter-widgets/controls",
          "model_name": "DescriptionStyleModel",
          "model_module_version": "1.5.0",
          "state": {
            "_model_module": "@jupyter-widgets/controls",
            "_model_module_version": "1.5.0",
            "_model_name": "DescriptionStyleModel",
            "_view_count": null,
            "_view_module": "@jupyter-widgets/base",
            "_view_module_version": "1.2.0",
            "_view_name": "StyleView",
            "description_width": ""
          }
        },
        "2b1411aaaf8f44d1b259f444d7526744": {
          "model_module": "@jupyter-widgets/controls",
          "model_name": "HBoxModel",
          "model_module_version": "1.5.0",
          "state": {
            "_dom_classes": [],
            "_model_module": "@jupyter-widgets/controls",
            "_model_module_version": "1.5.0",
            "_model_name": "HBoxModel",
            "_view_count": null,
            "_view_module": "@jupyter-widgets/controls",
            "_view_module_version": "1.5.0",
            "_view_name": "HBoxView",
            "box_style": "",
            "children": [
              "IPY_MODEL_e617d829e4514b14b03bf1121d1e8928",
              "IPY_MODEL_aef64c81548d4354965114b71dc97acf",
              "IPY_MODEL_e3d7648df7a4496c87acf4cee302bda8"
            ],
            "layout": "IPY_MODEL_90c737d3cd5447d6bb1cfece1527014e"
          }
        },
        "e617d829e4514b14b03bf1121d1e8928": {
          "model_module": "@jupyter-widgets/controls",
          "model_name": "HTMLModel",
          "model_module_version": "1.5.0",
          "state": {
            "_dom_classes": [],
            "_model_module": "@jupyter-widgets/controls",
            "_model_module_version": "1.5.0",
            "_model_name": "HTMLModel",
            "_view_count": null,
            "_view_module": "@jupyter-widgets/controls",
            "_view_module_version": "1.5.0",
            "_view_name": "HTMLView",
            "description": "",
            "description_tooltip": null,
            "layout": "IPY_MODEL_f880002fcc4048da91179ae1f2ae7441",
            "placeholder": "​",
            "style": "IPY_MODEL_1502fa9ce4fd44028723a1f33e2e2eab",
            "value": "vocab.txt: 100%"
          }
        },
        "aef64c81548d4354965114b71dc97acf": {
          "model_module": "@jupyter-widgets/controls",
          "model_name": "FloatProgressModel",
          "model_module_version": "1.5.0",
          "state": {
            "_dom_classes": [],
            "_model_module": "@jupyter-widgets/controls",
            "_model_module_version": "1.5.0",
            "_model_name": "FloatProgressModel",
            "_view_count": null,
            "_view_module": "@jupyter-widgets/controls",
            "_view_module_version": "1.5.0",
            "_view_name": "ProgressView",
            "bar_style": "success",
            "description": "",
            "description_tooltip": null,
            "layout": "IPY_MODEL_2a934ec6d52d46c1ac045ab6eecb4596",
            "max": 231508,
            "min": 0,
            "orientation": "horizontal",
            "style": "IPY_MODEL_c7516f8dd2ee41a4ac611854b4b84c31",
            "value": 231508
          }
        },
        "e3d7648df7a4496c87acf4cee302bda8": {
          "model_module": "@jupyter-widgets/controls",
          "model_name": "HTMLModel",
          "model_module_version": "1.5.0",
          "state": {
            "_dom_classes": [],
            "_model_module": "@jupyter-widgets/controls",
            "_model_module_version": "1.5.0",
            "_model_name": "HTMLModel",
            "_view_count": null,
            "_view_module": "@jupyter-widgets/controls",
            "_view_module_version": "1.5.0",
            "_view_name": "HTMLView",
            "description": "",
            "description_tooltip": null,
            "layout": "IPY_MODEL_3f2bc24d085c419eb6cb12b46b9eea89",
            "placeholder": "​",
            "style": "IPY_MODEL_d5892aed518f44629548f9b7fdf4253b",
            "value": " 232k/232k [00:00&lt;00:00, 7.32MB/s]"
          }
        },
        "90c737d3cd5447d6bb1cfece1527014e": {
          "model_module": "@jupyter-widgets/base",
          "model_name": "LayoutModel",
          "model_module_version": "1.2.0",
          "state": {
            "_model_module": "@jupyter-widgets/base",
            "_model_module_version": "1.2.0",
            "_model_name": "LayoutModel",
            "_view_count": null,
            "_view_module": "@jupyter-widgets/base",
            "_view_module_version": "1.2.0",
            "_view_name": "LayoutView",
            "align_content": null,
            "align_items": null,
            "align_self": null,
            "border": null,
            "bottom": null,
            "display": null,
            "flex": null,
            "flex_flow": null,
            "grid_area": null,
            "grid_auto_columns": null,
            "grid_auto_flow": null,
            "grid_auto_rows": null,
            "grid_column": null,
            "grid_gap": null,
            "grid_row": null,
            "grid_template_areas": null,
            "grid_template_columns": null,
            "grid_template_rows": null,
            "height": null,
            "justify_content": null,
            "justify_items": null,
            "left": null,
            "margin": null,
            "max_height": null,
            "max_width": null,
            "min_height": null,
            "min_width": null,
            "object_fit": null,
            "object_position": null,
            "order": null,
            "overflow": null,
            "overflow_x": null,
            "overflow_y": null,
            "padding": null,
            "right": null,
            "top": null,
            "visibility": null,
            "width": null
          }
        },
        "f880002fcc4048da91179ae1f2ae7441": {
          "model_module": "@jupyter-widgets/base",
          "model_name": "LayoutModel",
          "model_module_version": "1.2.0",
          "state": {
            "_model_module": "@jupyter-widgets/base",
            "_model_module_version": "1.2.0",
            "_model_name": "LayoutModel",
            "_view_count": null,
            "_view_module": "@jupyter-widgets/base",
            "_view_module_version": "1.2.0",
            "_view_name": "LayoutView",
            "align_content": null,
            "align_items": null,
            "align_self": null,
            "border": null,
            "bottom": null,
            "display": null,
            "flex": null,
            "flex_flow": null,
            "grid_area": null,
            "grid_auto_columns": null,
            "grid_auto_flow": null,
            "grid_auto_rows": null,
            "grid_column": null,
            "grid_gap": null,
            "grid_row": null,
            "grid_template_areas": null,
            "grid_template_columns": null,
            "grid_template_rows": null,
            "height": null,
            "justify_content": null,
            "justify_items": null,
            "left": null,
            "margin": null,
            "max_height": null,
            "max_width": null,
            "min_height": null,
            "min_width": null,
            "object_fit": null,
            "object_position": null,
            "order": null,
            "overflow": null,
            "overflow_x": null,
            "overflow_y": null,
            "padding": null,
            "right": null,
            "top": null,
            "visibility": null,
            "width": null
          }
        },
        "1502fa9ce4fd44028723a1f33e2e2eab": {
          "model_module": "@jupyter-widgets/controls",
          "model_name": "DescriptionStyleModel",
          "model_module_version": "1.5.0",
          "state": {
            "_model_module": "@jupyter-widgets/controls",
            "_model_module_version": "1.5.0",
            "_model_name": "DescriptionStyleModel",
            "_view_count": null,
            "_view_module": "@jupyter-widgets/base",
            "_view_module_version": "1.2.0",
            "_view_name": "StyleView",
            "description_width": ""
          }
        },
        "2a934ec6d52d46c1ac045ab6eecb4596": {
          "model_module": "@jupyter-widgets/base",
          "model_name": "LayoutModel",
          "model_module_version": "1.2.0",
          "state": {
            "_model_module": "@jupyter-widgets/base",
            "_model_module_version": "1.2.0",
            "_model_name": "LayoutModel",
            "_view_count": null,
            "_view_module": "@jupyter-widgets/base",
            "_view_module_version": "1.2.0",
            "_view_name": "LayoutView",
            "align_content": null,
            "align_items": null,
            "align_self": null,
            "border": null,
            "bottom": null,
            "display": null,
            "flex": null,
            "flex_flow": null,
            "grid_area": null,
            "grid_auto_columns": null,
            "grid_auto_flow": null,
            "grid_auto_rows": null,
            "grid_column": null,
            "grid_gap": null,
            "grid_row": null,
            "grid_template_areas": null,
            "grid_template_columns": null,
            "grid_template_rows": null,
            "height": null,
            "justify_content": null,
            "justify_items": null,
            "left": null,
            "margin": null,
            "max_height": null,
            "max_width": null,
            "min_height": null,
            "min_width": null,
            "object_fit": null,
            "object_position": null,
            "order": null,
            "overflow": null,
            "overflow_x": null,
            "overflow_y": null,
            "padding": null,
            "right": null,
            "top": null,
            "visibility": null,
            "width": null
          }
        },
        "c7516f8dd2ee41a4ac611854b4b84c31": {
          "model_module": "@jupyter-widgets/controls",
          "model_name": "ProgressStyleModel",
          "model_module_version": "1.5.0",
          "state": {
            "_model_module": "@jupyter-widgets/controls",
            "_model_module_version": "1.5.0",
            "_model_name": "ProgressStyleModel",
            "_view_count": null,
            "_view_module": "@jupyter-widgets/base",
            "_view_module_version": "1.2.0",
            "_view_name": "StyleView",
            "bar_color": null,
            "description_width": ""
          }
        },
        "3f2bc24d085c419eb6cb12b46b9eea89": {
          "model_module": "@jupyter-widgets/base",
          "model_name": "LayoutModel",
          "model_module_version": "1.2.0",
          "state": {
            "_model_module": "@jupyter-widgets/base",
            "_model_module_version": "1.2.0",
            "_model_name": "LayoutModel",
            "_view_count": null,
            "_view_module": "@jupyter-widgets/base",
            "_view_module_version": "1.2.0",
            "_view_name": "LayoutView",
            "align_content": null,
            "align_items": null,
            "align_self": null,
            "border": null,
            "bottom": null,
            "display": null,
            "flex": null,
            "flex_flow": null,
            "grid_area": null,
            "grid_auto_columns": null,
            "grid_auto_flow": null,
            "grid_auto_rows": null,
            "grid_column": null,
            "grid_gap": null,
            "grid_row": null,
            "grid_template_areas": null,
            "grid_template_columns": null,
            "grid_template_rows": null,
            "height": null,
            "justify_content": null,
            "justify_items": null,
            "left": null,
            "margin": null,
            "max_height": null,
            "max_width": null,
            "min_height": null,
            "min_width": null,
            "object_fit": null,
            "object_position": null,
            "order": null,
            "overflow": null,
            "overflow_x": null,
            "overflow_y": null,
            "padding": null,
            "right": null,
            "top": null,
            "visibility": null,
            "width": null
          }
        },
        "d5892aed518f44629548f9b7fdf4253b": {
          "model_module": "@jupyter-widgets/controls",
          "model_name": "DescriptionStyleModel",
          "model_module_version": "1.5.0",
          "state": {
            "_model_module": "@jupyter-widgets/controls",
            "_model_module_version": "1.5.0",
            "_model_name": "DescriptionStyleModel",
            "_view_count": null,
            "_view_module": "@jupyter-widgets/base",
            "_view_module_version": "1.2.0",
            "_view_name": "StyleView",
            "description_width": ""
          }
        },
        "9e29c0af8b4e498ba7a26891c89a83b1": {
          "model_module": "@jupyter-widgets/controls",
          "model_name": "HBoxModel",
          "model_module_version": "1.5.0",
          "state": {
            "_dom_classes": [],
            "_model_module": "@jupyter-widgets/controls",
            "_model_module_version": "1.5.0",
            "_model_name": "HBoxModel",
            "_view_count": null,
            "_view_module": "@jupyter-widgets/controls",
            "_view_module_version": "1.5.0",
            "_view_name": "HBoxView",
            "box_style": "",
            "children": [
              "IPY_MODEL_14a005a176044db5b805277b004228d5",
              "IPY_MODEL_19e08e067267483ab1ed2a4460522123",
              "IPY_MODEL_17ba68fa3c8940c48053a563ec7c0bdc"
            ],
            "layout": "IPY_MODEL_3775419e1976440c99998d8035f8d208"
          }
        },
        "14a005a176044db5b805277b004228d5": {
          "model_module": "@jupyter-widgets/controls",
          "model_name": "HTMLModel",
          "model_module_version": "1.5.0",
          "state": {
            "_dom_classes": [],
            "_model_module": "@jupyter-widgets/controls",
            "_model_module_version": "1.5.0",
            "_model_name": "HTMLModel",
            "_view_count": null,
            "_view_module": "@jupyter-widgets/controls",
            "_view_module_version": "1.5.0",
            "_view_name": "HTMLView",
            "description": "",
            "description_tooltip": null,
            "layout": "IPY_MODEL_ebb161468fbb4399a4f27a21b399d0ac",
            "placeholder": "​",
            "style": "IPY_MODEL_8fe205559ed44a29b1a6a36efd14a299",
            "value": "tokenizer.json: 100%"
          }
        },
        "19e08e067267483ab1ed2a4460522123": {
          "model_module": "@jupyter-widgets/controls",
          "model_name": "FloatProgressModel",
          "model_module_version": "1.5.0",
          "state": {
            "_dom_classes": [],
            "_model_module": "@jupyter-widgets/controls",
            "_model_module_version": "1.5.0",
            "_model_name": "FloatProgressModel",
            "_view_count": null,
            "_view_module": "@jupyter-widgets/controls",
            "_view_module_version": "1.5.0",
            "_view_name": "ProgressView",
            "bar_style": "success",
            "description": "",
            "description_tooltip": null,
            "layout": "IPY_MODEL_53ac0af2303c4701a0fc808adda78739",
            "max": 711649,
            "min": 0,
            "orientation": "horizontal",
            "style": "IPY_MODEL_4c029d5cdcb343a6a5ac99bed725cdb6",
            "value": 711649
          }
        },
        "17ba68fa3c8940c48053a563ec7c0bdc": {
          "model_module": "@jupyter-widgets/controls",
          "model_name": "HTMLModel",
          "model_module_version": "1.5.0",
          "state": {
            "_dom_classes": [],
            "_model_module": "@jupyter-widgets/controls",
            "_model_module_version": "1.5.0",
            "_model_name": "HTMLModel",
            "_view_count": null,
            "_view_module": "@jupyter-widgets/controls",
            "_view_module_version": "1.5.0",
            "_view_name": "HTMLView",
            "description": "",
            "description_tooltip": null,
            "layout": "IPY_MODEL_5d77a4b39b9c4e9a9c4d0b1b4dc6af0a",
            "placeholder": "​",
            "style": "IPY_MODEL_e14312aa8f92488fa88275538c06ab31",
            "value": " 712k/712k [00:00&lt;00:00, 13.8MB/s]"
          }
        },
        "3775419e1976440c99998d8035f8d208": {
          "model_module": "@jupyter-widgets/base",
          "model_name": "LayoutModel",
          "model_module_version": "1.2.0",
          "state": {
            "_model_module": "@jupyter-widgets/base",
            "_model_module_version": "1.2.0",
            "_model_name": "LayoutModel",
            "_view_count": null,
            "_view_module": "@jupyter-widgets/base",
            "_view_module_version": "1.2.0",
            "_view_name": "LayoutView",
            "align_content": null,
            "align_items": null,
            "align_self": null,
            "border": null,
            "bottom": null,
            "display": null,
            "flex": null,
            "flex_flow": null,
            "grid_area": null,
            "grid_auto_columns": null,
            "grid_auto_flow": null,
            "grid_auto_rows": null,
            "grid_column": null,
            "grid_gap": null,
            "grid_row": null,
            "grid_template_areas": null,
            "grid_template_columns": null,
            "grid_template_rows": null,
            "height": null,
            "justify_content": null,
            "justify_items": null,
            "left": null,
            "margin": null,
            "max_height": null,
            "max_width": null,
            "min_height": null,
            "min_width": null,
            "object_fit": null,
            "object_position": null,
            "order": null,
            "overflow": null,
            "overflow_x": null,
            "overflow_y": null,
            "padding": null,
            "right": null,
            "top": null,
            "visibility": null,
            "width": null
          }
        },
        "ebb161468fbb4399a4f27a21b399d0ac": {
          "model_module": "@jupyter-widgets/base",
          "model_name": "LayoutModel",
          "model_module_version": "1.2.0",
          "state": {
            "_model_module": "@jupyter-widgets/base",
            "_model_module_version": "1.2.0",
            "_model_name": "LayoutModel",
            "_view_count": null,
            "_view_module": "@jupyter-widgets/base",
            "_view_module_version": "1.2.0",
            "_view_name": "LayoutView",
            "align_content": null,
            "align_items": null,
            "align_self": null,
            "border": null,
            "bottom": null,
            "display": null,
            "flex": null,
            "flex_flow": null,
            "grid_area": null,
            "grid_auto_columns": null,
            "grid_auto_flow": null,
            "grid_auto_rows": null,
            "grid_column": null,
            "grid_gap": null,
            "grid_row": null,
            "grid_template_areas": null,
            "grid_template_columns": null,
            "grid_template_rows": null,
            "height": null,
            "justify_content": null,
            "justify_items": null,
            "left": null,
            "margin": null,
            "max_height": null,
            "max_width": null,
            "min_height": null,
            "min_width": null,
            "object_fit": null,
            "object_position": null,
            "order": null,
            "overflow": null,
            "overflow_x": null,
            "overflow_y": null,
            "padding": null,
            "right": null,
            "top": null,
            "visibility": null,
            "width": null
          }
        },
        "8fe205559ed44a29b1a6a36efd14a299": {
          "model_module": "@jupyter-widgets/controls",
          "model_name": "DescriptionStyleModel",
          "model_module_version": "1.5.0",
          "state": {
            "_model_module": "@jupyter-widgets/controls",
            "_model_module_version": "1.5.0",
            "_model_name": "DescriptionStyleModel",
            "_view_count": null,
            "_view_module": "@jupyter-widgets/base",
            "_view_module_version": "1.2.0",
            "_view_name": "StyleView",
            "description_width": ""
          }
        },
        "53ac0af2303c4701a0fc808adda78739": {
          "model_module": "@jupyter-widgets/base",
          "model_name": "LayoutModel",
          "model_module_version": "1.2.0",
          "state": {
            "_model_module": "@jupyter-widgets/base",
            "_model_module_version": "1.2.0",
            "_model_name": "LayoutModel",
            "_view_count": null,
            "_view_module": "@jupyter-widgets/base",
            "_view_module_version": "1.2.0",
            "_view_name": "LayoutView",
            "align_content": null,
            "align_items": null,
            "align_self": null,
            "border": null,
            "bottom": null,
            "display": null,
            "flex": null,
            "flex_flow": null,
            "grid_area": null,
            "grid_auto_columns": null,
            "grid_auto_flow": null,
            "grid_auto_rows": null,
            "grid_column": null,
            "grid_gap": null,
            "grid_row": null,
            "grid_template_areas": null,
            "grid_template_columns": null,
            "grid_template_rows": null,
            "height": null,
            "justify_content": null,
            "justify_items": null,
            "left": null,
            "margin": null,
            "max_height": null,
            "max_width": null,
            "min_height": null,
            "min_width": null,
            "object_fit": null,
            "object_position": null,
            "order": null,
            "overflow": null,
            "overflow_x": null,
            "overflow_y": null,
            "padding": null,
            "right": null,
            "top": null,
            "visibility": null,
            "width": null
          }
        },
        "4c029d5cdcb343a6a5ac99bed725cdb6": {
          "model_module": "@jupyter-widgets/controls",
          "model_name": "ProgressStyleModel",
          "model_module_version": "1.5.0",
          "state": {
            "_model_module": "@jupyter-widgets/controls",
            "_model_module_version": "1.5.0",
            "_model_name": "ProgressStyleModel",
            "_view_count": null,
            "_view_module": "@jupyter-widgets/base",
            "_view_module_version": "1.2.0",
            "_view_name": "StyleView",
            "bar_color": null,
            "description_width": ""
          }
        },
        "5d77a4b39b9c4e9a9c4d0b1b4dc6af0a": {
          "model_module": "@jupyter-widgets/base",
          "model_name": "LayoutModel",
          "model_module_version": "1.2.0",
          "state": {
            "_model_module": "@jupyter-widgets/base",
            "_model_module_version": "1.2.0",
            "_model_name": "LayoutModel",
            "_view_count": null,
            "_view_module": "@jupyter-widgets/base",
            "_view_module_version": "1.2.0",
            "_view_name": "LayoutView",
            "align_content": null,
            "align_items": null,
            "align_self": null,
            "border": null,
            "bottom": null,
            "display": null,
            "flex": null,
            "flex_flow": null,
            "grid_area": null,
            "grid_auto_columns": null,
            "grid_auto_flow": null,
            "grid_auto_rows": null,
            "grid_column": null,
            "grid_gap": null,
            "grid_row": null,
            "grid_template_areas": null,
            "grid_template_columns": null,
            "grid_template_rows": null,
            "height": null,
            "justify_content": null,
            "justify_items": null,
            "left": null,
            "margin": null,
            "max_height": null,
            "max_width": null,
            "min_height": null,
            "min_width": null,
            "object_fit": null,
            "object_position": null,
            "order": null,
            "overflow": null,
            "overflow_x": null,
            "overflow_y": null,
            "padding": null,
            "right": null,
            "top": null,
            "visibility": null,
            "width": null
          }
        },
        "e14312aa8f92488fa88275538c06ab31": {
          "model_module": "@jupyter-widgets/controls",
          "model_name": "DescriptionStyleModel",
          "model_module_version": "1.5.0",
          "state": {
            "_model_module": "@jupyter-widgets/controls",
            "_model_module_version": "1.5.0",
            "_model_name": "DescriptionStyleModel",
            "_view_count": null,
            "_view_module": "@jupyter-widgets/base",
            "_view_module_version": "1.2.0",
            "_view_name": "StyleView",
            "description_width": ""
          }
        },
        "d350187514224ee69ed371af58f8e4e1": {
          "model_module": "@jupyter-widgets/controls",
          "model_name": "HBoxModel",
          "model_module_version": "1.5.0",
          "state": {
            "_dom_classes": [],
            "_model_module": "@jupyter-widgets/controls",
            "_model_module_version": "1.5.0",
            "_model_name": "HBoxModel",
            "_view_count": null,
            "_view_module": "@jupyter-widgets/controls",
            "_view_module_version": "1.5.0",
            "_view_name": "HBoxView",
            "box_style": "",
            "children": [
              "IPY_MODEL_753d56c9eb654c31a4b595e7c999de37",
              "IPY_MODEL_5d3612b974364b5b9813eadcd15e6cf9",
              "IPY_MODEL_6a25aefce4264b79a7ca6627956c17a9"
            ],
            "layout": "IPY_MODEL_e31ad495c1204325a8a405b29a26fa80"
          }
        },
        "753d56c9eb654c31a4b595e7c999de37": {
          "model_module": "@jupyter-widgets/controls",
          "model_name": "HTMLModel",
          "model_module_version": "1.5.0",
          "state": {
            "_dom_classes": [],
            "_model_module": "@jupyter-widgets/controls",
            "_model_module_version": "1.5.0",
            "_model_name": "HTMLModel",
            "_view_count": null,
            "_view_module": "@jupyter-widgets/controls",
            "_view_module_version": "1.5.0",
            "_view_name": "HTMLView",
            "description": "",
            "description_tooltip": null,
            "layout": "IPY_MODEL_944626d17b5f4515bc6f8aa93c020a59",
            "placeholder": "​",
            "style": "IPY_MODEL_6426848a461e4937a3928b2bf7dfd935",
            "value": "special_tokens_map.json: 100%"
          }
        },
        "5d3612b974364b5b9813eadcd15e6cf9": {
          "model_module": "@jupyter-widgets/controls",
          "model_name": "FloatProgressModel",
          "model_module_version": "1.5.0",
          "state": {
            "_dom_classes": [],
            "_model_module": "@jupyter-widgets/controls",
            "_model_module_version": "1.5.0",
            "_model_name": "FloatProgressModel",
            "_view_count": null,
            "_view_module": "@jupyter-widgets/controls",
            "_view_module_version": "1.5.0",
            "_view_name": "ProgressView",
            "bar_style": "success",
            "description": "",
            "description_tooltip": null,
            "layout": "IPY_MODEL_851943552bdd42fc8ca64b1fa06b8d1f",
            "max": 125,
            "min": 0,
            "orientation": "horizontal",
            "style": "IPY_MODEL_b8109915f5284926a47274120da543ce",
            "value": 125
          }
        },
        "6a25aefce4264b79a7ca6627956c17a9": {
          "model_module": "@jupyter-widgets/controls",
          "model_name": "HTMLModel",
          "model_module_version": "1.5.0",
          "state": {
            "_dom_classes": [],
            "_model_module": "@jupyter-widgets/controls",
            "_model_module_version": "1.5.0",
            "_model_name": "HTMLModel",
            "_view_count": null,
            "_view_module": "@jupyter-widgets/controls",
            "_view_module_version": "1.5.0",
            "_view_name": "HTMLView",
            "description": "",
            "description_tooltip": null,
            "layout": "IPY_MODEL_574f5e9a70064570901bc229856662d5",
            "placeholder": "​",
            "style": "IPY_MODEL_a38baf6b3a75441fa84f629ecfcbdc56",
            "value": " 125/125 [00:00&lt;00:00, 5.39kB/s]"
          }
        },
        "e31ad495c1204325a8a405b29a26fa80": {
          "model_module": "@jupyter-widgets/base",
          "model_name": "LayoutModel",
          "model_module_version": "1.2.0",
          "state": {
            "_model_module": "@jupyter-widgets/base",
            "_model_module_version": "1.2.0",
            "_model_name": "LayoutModel",
            "_view_count": null,
            "_view_module": "@jupyter-widgets/base",
            "_view_module_version": "1.2.0",
            "_view_name": "LayoutView",
            "align_content": null,
            "align_items": null,
            "align_self": null,
            "border": null,
            "bottom": null,
            "display": null,
            "flex": null,
            "flex_flow": null,
            "grid_area": null,
            "grid_auto_columns": null,
            "grid_auto_flow": null,
            "grid_auto_rows": null,
            "grid_column": null,
            "grid_gap": null,
            "grid_row": null,
            "grid_template_areas": null,
            "grid_template_columns": null,
            "grid_template_rows": null,
            "height": null,
            "justify_content": null,
            "justify_items": null,
            "left": null,
            "margin": null,
            "max_height": null,
            "max_width": null,
            "min_height": null,
            "min_width": null,
            "object_fit": null,
            "object_position": null,
            "order": null,
            "overflow": null,
            "overflow_x": null,
            "overflow_y": null,
            "padding": null,
            "right": null,
            "top": null,
            "visibility": null,
            "width": null
          }
        },
        "944626d17b5f4515bc6f8aa93c020a59": {
          "model_module": "@jupyter-widgets/base",
          "model_name": "LayoutModel",
          "model_module_version": "1.2.0",
          "state": {
            "_model_module": "@jupyter-widgets/base",
            "_model_module_version": "1.2.0",
            "_model_name": "LayoutModel",
            "_view_count": null,
            "_view_module": "@jupyter-widgets/base",
            "_view_module_version": "1.2.0",
            "_view_name": "LayoutView",
            "align_content": null,
            "align_items": null,
            "align_self": null,
            "border": null,
            "bottom": null,
            "display": null,
            "flex": null,
            "flex_flow": null,
            "grid_area": null,
            "grid_auto_columns": null,
            "grid_auto_flow": null,
            "grid_auto_rows": null,
            "grid_column": null,
            "grid_gap": null,
            "grid_row": null,
            "grid_template_areas": null,
            "grid_template_columns": null,
            "grid_template_rows": null,
            "height": null,
            "justify_content": null,
            "justify_items": null,
            "left": null,
            "margin": null,
            "max_height": null,
            "max_width": null,
            "min_height": null,
            "min_width": null,
            "object_fit": null,
            "object_position": null,
            "order": null,
            "overflow": null,
            "overflow_x": null,
            "overflow_y": null,
            "padding": null,
            "right": null,
            "top": null,
            "visibility": null,
            "width": null
          }
        },
        "6426848a461e4937a3928b2bf7dfd935": {
          "model_module": "@jupyter-widgets/controls",
          "model_name": "DescriptionStyleModel",
          "model_module_version": "1.5.0",
          "state": {
            "_model_module": "@jupyter-widgets/controls",
            "_model_module_version": "1.5.0",
            "_model_name": "DescriptionStyleModel",
            "_view_count": null,
            "_view_module": "@jupyter-widgets/base",
            "_view_module_version": "1.2.0",
            "_view_name": "StyleView",
            "description_width": ""
          }
        },
        "851943552bdd42fc8ca64b1fa06b8d1f": {
          "model_module": "@jupyter-widgets/base",
          "model_name": "LayoutModel",
          "model_module_version": "1.2.0",
          "state": {
            "_model_module": "@jupyter-widgets/base",
            "_model_module_version": "1.2.0",
            "_model_name": "LayoutModel",
            "_view_count": null,
            "_view_module": "@jupyter-widgets/base",
            "_view_module_version": "1.2.0",
            "_view_name": "LayoutView",
            "align_content": null,
            "align_items": null,
            "align_self": null,
            "border": null,
            "bottom": null,
            "display": null,
            "flex": null,
            "flex_flow": null,
            "grid_area": null,
            "grid_auto_columns": null,
            "grid_auto_flow": null,
            "grid_auto_rows": null,
            "grid_column": null,
            "grid_gap": null,
            "grid_row": null,
            "grid_template_areas": null,
            "grid_template_columns": null,
            "grid_template_rows": null,
            "height": null,
            "justify_content": null,
            "justify_items": null,
            "left": null,
            "margin": null,
            "max_height": null,
            "max_width": null,
            "min_height": null,
            "min_width": null,
            "object_fit": null,
            "object_position": null,
            "order": null,
            "overflow": null,
            "overflow_x": null,
            "overflow_y": null,
            "padding": null,
            "right": null,
            "top": null,
            "visibility": null,
            "width": null
          }
        },
        "b8109915f5284926a47274120da543ce": {
          "model_module": "@jupyter-widgets/controls",
          "model_name": "ProgressStyleModel",
          "model_module_version": "1.5.0",
          "state": {
            "_model_module": "@jupyter-widgets/controls",
            "_model_module_version": "1.5.0",
            "_model_name": "ProgressStyleModel",
            "_view_count": null,
            "_view_module": "@jupyter-widgets/base",
            "_view_module_version": "1.2.0",
            "_view_name": "StyleView",
            "bar_color": null,
            "description_width": ""
          }
        },
        "574f5e9a70064570901bc229856662d5": {
          "model_module": "@jupyter-widgets/base",
          "model_name": "LayoutModel",
          "model_module_version": "1.2.0",
          "state": {
            "_model_module": "@jupyter-widgets/base",
            "_model_module_version": "1.2.0",
            "_model_name": "LayoutModel",
            "_view_count": null,
            "_view_module": "@jupyter-widgets/base",
            "_view_module_version": "1.2.0",
            "_view_name": "LayoutView",
            "align_content": null,
            "align_items": null,
            "align_self": null,
            "border": null,
            "bottom": null,
            "display": null,
            "flex": null,
            "flex_flow": null,
            "grid_area": null,
            "grid_auto_columns": null,
            "grid_auto_flow": null,
            "grid_auto_rows": null,
            "grid_column": null,
            "grid_gap": null,
            "grid_row": null,
            "grid_template_areas": null,
            "grid_template_columns": null,
            "grid_template_rows": null,
            "height": null,
            "justify_content": null,
            "justify_items": null,
            "left": null,
            "margin": null,
            "max_height": null,
            "max_width": null,
            "min_height": null,
            "min_width": null,
            "object_fit": null,
            "object_position": null,
            "order": null,
            "overflow": null,
            "overflow_x": null,
            "overflow_y": null,
            "padding": null,
            "right": null,
            "top": null,
            "visibility": null,
            "width": null
          }
        },
        "a38baf6b3a75441fa84f629ecfcbdc56": {
          "model_module": "@jupyter-widgets/controls",
          "model_name": "DescriptionStyleModel",
          "model_module_version": "1.5.0",
          "state": {
            "_model_module": "@jupyter-widgets/controls",
            "_model_module_version": "1.5.0",
            "_model_name": "DescriptionStyleModel",
            "_view_count": null,
            "_view_module": "@jupyter-widgets/base",
            "_view_module_version": "1.2.0",
            "_view_name": "StyleView",
            "description_width": ""
          }
        },
        "70b878c660424bf095d752623b73c8fe": {
          "model_module": "@jupyter-widgets/controls",
          "model_name": "HBoxModel",
          "model_module_version": "1.5.0",
          "state": {
            "_dom_classes": [],
            "_model_module": "@jupyter-widgets/controls",
            "_model_module_version": "1.5.0",
            "_model_name": "HBoxModel",
            "_view_count": null,
            "_view_module": "@jupyter-widgets/controls",
            "_view_module_version": "1.5.0",
            "_view_name": "HBoxView",
            "box_style": "",
            "children": [
              "IPY_MODEL_b27aa74e3c7a4b7b8de3d53f0a82521d",
              "IPY_MODEL_5e2dea9658164310a10673904e0da663",
              "IPY_MODEL_923a8b9dd930498da2c611fb0be68642"
            ],
            "layout": "IPY_MODEL_de8b714b2ca045eeb2e6509a9be7badc"
          }
        },
        "b27aa74e3c7a4b7b8de3d53f0a82521d": {
          "model_module": "@jupyter-widgets/controls",
          "model_name": "HTMLModel",
          "model_module_version": "1.5.0",
          "state": {
            "_dom_classes": [],
            "_model_module": "@jupyter-widgets/controls",
            "_model_module_version": "1.5.0",
            "_model_name": "HTMLModel",
            "_view_count": null,
            "_view_module": "@jupyter-widgets/controls",
            "_view_module_version": "1.5.0",
            "_view_name": "HTMLView",
            "description": "",
            "description_tooltip": null,
            "layout": "IPY_MODEL_1bbd1fa45c974b72b152674abfba3b2e",
            "placeholder": "​",
            "style": "IPY_MODEL_69ca44e534c74883b8499eda504931ec",
            "value": "1_Pooling/config.json: 100%"
          }
        },
        "5e2dea9658164310a10673904e0da663": {
          "model_module": "@jupyter-widgets/controls",
          "model_name": "FloatProgressModel",
          "model_module_version": "1.5.0",
          "state": {
            "_dom_classes": [],
            "_model_module": "@jupyter-widgets/controls",
            "_model_module_version": "1.5.0",
            "_model_name": "FloatProgressModel",
            "_view_count": null,
            "_view_module": "@jupyter-widgets/controls",
            "_view_module_version": "1.5.0",
            "_view_name": "ProgressView",
            "bar_style": "success",
            "description": "",
            "description_tooltip": null,
            "layout": "IPY_MODEL_ae51839565c64c668fada2188c8cfeef",
            "max": 190,
            "min": 0,
            "orientation": "horizontal",
            "style": "IPY_MODEL_ba4ef16c3f624f148c9f26b2e111bac6",
            "value": 190
          }
        },
        "923a8b9dd930498da2c611fb0be68642": {
          "model_module": "@jupyter-widgets/controls",
          "model_name": "HTMLModel",
          "model_module_version": "1.5.0",
          "state": {
            "_dom_classes": [],
            "_model_module": "@jupyter-widgets/controls",
            "_model_module_version": "1.5.0",
            "_model_name": "HTMLModel",
            "_view_count": null,
            "_view_module": "@jupyter-widgets/controls",
            "_view_module_version": "1.5.0",
            "_view_name": "HTMLView",
            "description": "",
            "description_tooltip": null,
            "layout": "IPY_MODEL_e14faa7d146f4b6ea05cb169c9afd3a4",
            "placeholder": "​",
            "style": "IPY_MODEL_4f2875b0b14f4e358073aa4b63e30c29",
            "value": " 190/190 [00:00&lt;00:00, 6.75kB/s]"
          }
        },
        "de8b714b2ca045eeb2e6509a9be7badc": {
          "model_module": "@jupyter-widgets/base",
          "model_name": "LayoutModel",
          "model_module_version": "1.2.0",
          "state": {
            "_model_module": "@jupyter-widgets/base",
            "_model_module_version": "1.2.0",
            "_model_name": "LayoutModel",
            "_view_count": null,
            "_view_module": "@jupyter-widgets/base",
            "_view_module_version": "1.2.0",
            "_view_name": "LayoutView",
            "align_content": null,
            "align_items": null,
            "align_self": null,
            "border": null,
            "bottom": null,
            "display": null,
            "flex": null,
            "flex_flow": null,
            "grid_area": null,
            "grid_auto_columns": null,
            "grid_auto_flow": null,
            "grid_auto_rows": null,
            "grid_column": null,
            "grid_gap": null,
            "grid_row": null,
            "grid_template_areas": null,
            "grid_template_columns": null,
            "grid_template_rows": null,
            "height": null,
            "justify_content": null,
            "justify_items": null,
            "left": null,
            "margin": null,
            "max_height": null,
            "max_width": null,
            "min_height": null,
            "min_width": null,
            "object_fit": null,
            "object_position": null,
            "order": null,
            "overflow": null,
            "overflow_x": null,
            "overflow_y": null,
            "padding": null,
            "right": null,
            "top": null,
            "visibility": null,
            "width": null
          }
        },
        "1bbd1fa45c974b72b152674abfba3b2e": {
          "model_module": "@jupyter-widgets/base",
          "model_name": "LayoutModel",
          "model_module_version": "1.2.0",
          "state": {
            "_model_module": "@jupyter-widgets/base",
            "_model_module_version": "1.2.0",
            "_model_name": "LayoutModel",
            "_view_count": null,
            "_view_module": "@jupyter-widgets/base",
            "_view_module_version": "1.2.0",
            "_view_name": "LayoutView",
            "align_content": null,
            "align_items": null,
            "align_self": null,
            "border": null,
            "bottom": null,
            "display": null,
            "flex": null,
            "flex_flow": null,
            "grid_area": null,
            "grid_auto_columns": null,
            "grid_auto_flow": null,
            "grid_auto_rows": null,
            "grid_column": null,
            "grid_gap": null,
            "grid_row": null,
            "grid_template_areas": null,
            "grid_template_columns": null,
            "grid_template_rows": null,
            "height": null,
            "justify_content": null,
            "justify_items": null,
            "left": null,
            "margin": null,
            "max_height": null,
            "max_width": null,
            "min_height": null,
            "min_width": null,
            "object_fit": null,
            "object_position": null,
            "order": null,
            "overflow": null,
            "overflow_x": null,
            "overflow_y": null,
            "padding": null,
            "right": null,
            "top": null,
            "visibility": null,
            "width": null
          }
        },
        "69ca44e534c74883b8499eda504931ec": {
          "model_module": "@jupyter-widgets/controls",
          "model_name": "DescriptionStyleModel",
          "model_module_version": "1.5.0",
          "state": {
            "_model_module": "@jupyter-widgets/controls",
            "_model_module_version": "1.5.0",
            "_model_name": "DescriptionStyleModel",
            "_view_count": null,
            "_view_module": "@jupyter-widgets/base",
            "_view_module_version": "1.2.0",
            "_view_name": "StyleView",
            "description_width": ""
          }
        },
        "ae51839565c64c668fada2188c8cfeef": {
          "model_module": "@jupyter-widgets/base",
          "model_name": "LayoutModel",
          "model_module_version": "1.2.0",
          "state": {
            "_model_module": "@jupyter-widgets/base",
            "_model_module_version": "1.2.0",
            "_model_name": "LayoutModel",
            "_view_count": null,
            "_view_module": "@jupyter-widgets/base",
            "_view_module_version": "1.2.0",
            "_view_name": "LayoutView",
            "align_content": null,
            "align_items": null,
            "align_self": null,
            "border": null,
            "bottom": null,
            "display": null,
            "flex": null,
            "flex_flow": null,
            "grid_area": null,
            "grid_auto_columns": null,
            "grid_auto_flow": null,
            "grid_auto_rows": null,
            "grid_column": null,
            "grid_gap": null,
            "grid_row": null,
            "grid_template_areas": null,
            "grid_template_columns": null,
            "grid_template_rows": null,
            "height": null,
            "justify_content": null,
            "justify_items": null,
            "left": null,
            "margin": null,
            "max_height": null,
            "max_width": null,
            "min_height": null,
            "min_width": null,
            "object_fit": null,
            "object_position": null,
            "order": null,
            "overflow": null,
            "overflow_x": null,
            "overflow_y": null,
            "padding": null,
            "right": null,
            "top": null,
            "visibility": null,
            "width": null
          }
        },
        "ba4ef16c3f624f148c9f26b2e111bac6": {
          "model_module": "@jupyter-widgets/controls",
          "model_name": "ProgressStyleModel",
          "model_module_version": "1.5.0",
          "state": {
            "_model_module": "@jupyter-widgets/controls",
            "_model_module_version": "1.5.0",
            "_model_name": "ProgressStyleModel",
            "_view_count": null,
            "_view_module": "@jupyter-widgets/base",
            "_view_module_version": "1.2.0",
            "_view_name": "StyleView",
            "bar_color": null,
            "description_width": ""
          }
        },
        "e14faa7d146f4b6ea05cb169c9afd3a4": {
          "model_module": "@jupyter-widgets/base",
          "model_name": "LayoutModel",
          "model_module_version": "1.2.0",
          "state": {
            "_model_module": "@jupyter-widgets/base",
            "_model_module_version": "1.2.0",
            "_model_name": "LayoutModel",
            "_view_count": null,
            "_view_module": "@jupyter-widgets/base",
            "_view_module_version": "1.2.0",
            "_view_name": "LayoutView",
            "align_content": null,
            "align_items": null,
            "align_self": null,
            "border": null,
            "bottom": null,
            "display": null,
            "flex": null,
            "flex_flow": null,
            "grid_area": null,
            "grid_auto_columns": null,
            "grid_auto_flow": null,
            "grid_auto_rows": null,
            "grid_column": null,
            "grid_gap": null,
            "grid_row": null,
            "grid_template_areas": null,
            "grid_template_columns": null,
            "grid_template_rows": null,
            "height": null,
            "justify_content": null,
            "justify_items": null,
            "left": null,
            "margin": null,
            "max_height": null,
            "max_width": null,
            "min_height": null,
            "min_width": null,
            "object_fit": null,
            "object_position": null,
            "order": null,
            "overflow": null,
            "overflow_x": null,
            "overflow_y": null,
            "padding": null,
            "right": null,
            "top": null,
            "visibility": null,
            "width": null
          }
        },
        "4f2875b0b14f4e358073aa4b63e30c29": {
          "model_module": "@jupyter-widgets/controls",
          "model_name": "DescriptionStyleModel",
          "model_module_version": "1.5.0",
          "state": {
            "_model_module": "@jupyter-widgets/controls",
            "_model_module_version": "1.5.0",
            "_model_name": "DescriptionStyleModel",
            "_view_count": null,
            "_view_module": "@jupyter-widgets/base",
            "_view_module_version": "1.2.0",
            "_view_name": "StyleView",
            "description_width": ""
          }
        }
      }
    }
  },
  "cells": [
    {
      "cell_type": "markdown",
      "source": [
        "# installing dependencies"
      ],
      "metadata": {
        "id": "2MzYcmIKxXAC"
      }
    },
    {
      "cell_type": "code",
      "source": [
        "!pip install mistralai faiss-cpu sentence_transformers -q"
      ],
      "metadata": {
        "execution": {
          "iopub.status.busy": "2024-10-14T15:39:15.019976Z",
          "iopub.execute_input": "2024-10-14T15:39:15.020409Z",
          "iopub.status.idle": "2024-10-14T15:39:31.003421Z",
          "shell.execute_reply.started": "2024-10-14T15:39:15.020368Z",
          "shell.execute_reply": "2024-10-14T15:39:31.001891Z"
        },
        "trusted": true,
        "id": "nUybV9Q5qMTi",
        "colab": {
          "base_uri": "https://localhost:8080/",
          "height": 0
        },
        "outputId": "72002b12-cafa-45a9-d8cf-f84e45374707",
        "collapsed": true
      },
      "execution_count": 1,
      "outputs": [
        {
          "output_type": "stream",
          "name": "stdout",
          "text": [
            "\u001b[2K   \u001b[90m━━━━━━━━━━━━━━━━━━━━━━━━━━━━━━━━━━━━━━━━\u001b[0m \u001b[32m229.7/229.7 kB\u001b[0m \u001b[31m5.8 MB/s\u001b[0m eta \u001b[36m0:00:00\u001b[0m\n",
            "\u001b[2K   \u001b[90m━━━━━━━━━━━━━━━━━━━━━━━━━━━━━━━━━━━━━━━━\u001b[0m \u001b[32m27.5/27.5 MB\u001b[0m \u001b[31m56.9 MB/s\u001b[0m eta \u001b[36m0:00:00\u001b[0m\n",
            "\u001b[2K   \u001b[90m━━━━━━━━━━━━━━━━━━━━━━━━━━━━━━━━━━━━━━━━\u001b[0m \u001b[32m255.2/255.2 kB\u001b[0m \u001b[31m15.8 MB/s\u001b[0m eta \u001b[36m0:00:00\u001b[0m\n",
            "\u001b[2K   \u001b[90m━━━━━━━━━━━━━━━━━━━━━━━━━━━━━━━━━━━━━━━━\u001b[0m \u001b[32m76.4/76.4 kB\u001b[0m \u001b[31m5.2 MB/s\u001b[0m eta \u001b[36m0:00:00\u001b[0m\n",
            "\u001b[2K   \u001b[90m━━━━━━━━━━━━━━━━━━━━━━━━━━━━━━━━━━━━━━━━\u001b[0m \u001b[32m78.0/78.0 kB\u001b[0m \u001b[31m5.5 MB/s\u001b[0m eta \u001b[36m0:00:00\u001b[0m\n",
            "\u001b[2K   \u001b[90m━━━━━━━━━━━━━━━━━━━━━━━━━━━━━━━━━━━━━━━━\u001b[0m \u001b[32m58.3/58.3 kB\u001b[0m \u001b[31m4.3 MB/s\u001b[0m eta \u001b[36m0:00:00\u001b[0m\n",
            "\u001b[?25h"
          ]
        }
      ]
    },
    {
      "cell_type": "code",
      "source": [
        "import os\n",
        "from mistralai import Mistral"
      ],
      "metadata": {
        "execution": {
          "iopub.status.busy": "2024-10-14T15:39:31.005789Z",
          "iopub.execute_input": "2024-10-14T15:39:31.006186Z",
          "iopub.status.idle": "2024-10-14T15:39:31.848359Z",
          "shell.execute_reply.started": "2024-10-14T15:39:31.006141Z",
          "shell.execute_reply": "2024-10-14T15:39:31.846985Z"
        },
        "trusted": true,
        "id": "YAPCeVXjqMTn"
      },
      "execution_count": 2,
      "outputs": []
    },
    {
      "cell_type": "code",
      "source": [
        "import time\n",
        "import networkx as nx\n",
        "import matplotlib.pyplot as plt"
      ],
      "metadata": {
        "id": "QcKhNKQu8XuY"
      },
      "execution_count": 3,
      "outputs": []
    },
    {
      "cell_type": "markdown",
      "source": [
        "# Reading the tool data"
      ],
      "metadata": {
        "id": "Z5Kc9iA_qMTo"
      }
    },
    {
      "cell_type": "code",
      "source": [
        "import json\n",
        "\n",
        "with open('/content/devrev_tools.json', 'r') as file:\n",
        "    data = file.read()\n",
        "data = json.loads(data)"
      ],
      "metadata": {
        "execution": {
          "iopub.status.busy": "2024-10-14T15:39:12.684356Z",
          "iopub.execute_input": "2024-10-14T15:39:12.684799Z",
          "iopub.status.idle": "2024-10-14T15:39:12.696107Z",
          "shell.execute_reply.started": "2024-10-14T15:39:12.684755Z",
          "shell.execute_reply": "2024-10-14T15:39:12.694853Z"
        },
        "trusted": true,
        "id": "89y3zH18qMTp"
      },
      "execution_count": 4,
      "outputs": []
    },
    {
      "cell_type": "code",
      "source": [
        "for tool_data in data:\n",
        "  print(tool_data['tool_name'])"
      ],
      "metadata": {
        "colab": {
          "base_uri": "https://localhost:8080/",
          "height": 0
        },
        "id": "sfDYq9V3S2nz",
        "outputId": "b404bf96-11e4-4f85-fe8e-40fa5cb5baec"
      },
      "execution_count": 5,
      "outputs": [
        {
          "output_type": "stream",
          "name": "stdout",
          "text": [
            "who_am_i\n",
            "get_sprint_id\n",
            "works_list\n",
            "summarize_objects\n",
            "prioritize_objects\n",
            "add_work_items_to_sprint\n",
            "get_similar_work_items\n",
            "search_object_by_name\n",
            "create_actionable_tasks_from_text\n",
            "assign_work_items\n",
            "validate_work_dependency\n",
            "sync_work_items_with_calendar\n",
            "list_sprint_work_items\n",
            "filter_by_status\n",
            "merge_work_items\n"
          ]
        }
      ]
    },
    {
      "cell_type": "code",
      "source": [
        "len(data)"
      ],
      "metadata": {
        "colab": {
          "base_uri": "https://localhost:8080/",
          "height": 0
        },
        "id": "7kaeYvlmSKK5",
        "outputId": "a5665469-8a60-4acb-e221-7f33c79a3978"
      },
      "execution_count": 6,
      "outputs": [
        {
          "output_type": "execute_result",
          "data": {
            "text/plain": [
              "15"
            ]
          },
          "metadata": {},
          "execution_count": 6
        }
      ]
    },
    {
      "cell_type": "markdown",
      "source": [
        "## Graph based on tools"
      ],
      "metadata": {
        "id": "CTpUAdUvqMTq"
      }
    },
    {
      "cell_type": "code",
      "source": [
        "import networkx as nx\n",
        "\n",
        "# Create a directed graph\n",
        "G = nx.DiGraph()\n",
        "\n",
        "# Add tools to the graph\n",
        "for tool in data:\n",
        "    try:\n",
        "        inp = tool['args'][0]['arg_type']\n",
        "    except:\n",
        "        inp = None\n",
        "    G.add_node(tool['tool_name'], input_type=inp, output_type=tool['output']['arg_type'])\n",
        "\n",
        "\n",
        "for tool_a in data:\n",
        "    for tool_b in data:\n",
        "        if (len(tool_b['args']) > 0 and tool_a != tool_b):\n",
        "            for i in range(len(tool_b['args'])):\n",
        "                if tool_a['output']['arg_type'] == tool_b['args'][i]['arg_type']:\n",
        "                    G.add_edge(tool_a['tool_name'], tool_b['tool_name'])\n",
        "                    weight = 0.1 if tool_b['args'][i].get('is_required', False) else 0.4\n",
        "                    G.add_edge(tool_a['tool_name'], tool_b['tool_name'], weight=weight)\n",
        "\n",
        "# Print graph edges (to see connections)\n",
        "for edge in G.edges:\n",
        "    print(f\"{edge[0]} -> {edge[1]}\")\n"
      ],
      "metadata": {
        "execution": {
          "iopub.status.busy": "2024-10-14T15:39:31.850053Z",
          "iopub.execute_input": "2024-10-14T15:39:31.850997Z",
          "iopub.status.idle": "2024-10-14T15:39:32.062661Z",
          "shell.execute_reply.started": "2024-10-14T15:39:31.850943Z",
          "shell.execute_reply": "2024-10-14T15:39:32.061425Z"
        },
        "trusted": true,
        "id": "0Q2FHhwOqMTq",
        "colab": {
          "base_uri": "https://localhost:8080/",
          "height": 0
        },
        "outputId": "6798ca4d-6a5b-465e-e93d-edea2f72cd5e"
      },
      "execution_count": 7,
      "outputs": [
        {
          "output_type": "stream",
          "name": "stdout",
          "text": [
            "who_am_i -> works_list\n",
            "who_am_i -> add_work_items_to_sprint\n",
            "who_am_i -> get_similar_work_items\n",
            "who_am_i -> search_object_by_name\n",
            "who_am_i -> create_actionable_tasks_from_text\n",
            "who_am_i -> assign_work_items\n",
            "who_am_i -> validate_work_dependency\n",
            "who_am_i -> sync_work_items_with_calendar\n",
            "who_am_i -> list_sprint_work_items\n",
            "who_am_i -> filter_by_status\n",
            "who_am_i -> merge_work_items\n",
            "get_sprint_id -> works_list\n",
            "get_sprint_id -> add_work_items_to_sprint\n",
            "get_sprint_id -> get_similar_work_items\n",
            "get_sprint_id -> search_object_by_name\n",
            "get_sprint_id -> create_actionable_tasks_from_text\n",
            "get_sprint_id -> assign_work_items\n",
            "get_sprint_id -> validate_work_dependency\n",
            "get_sprint_id -> sync_work_items_with_calendar\n",
            "get_sprint_id -> list_sprint_work_items\n",
            "get_sprint_id -> filter_by_status\n",
            "get_sprint_id -> merge_work_items\n",
            "works_list -> summarize_objects\n",
            "works_list -> prioritize_objects\n",
            "summarize_objects -> prioritize_objects\n",
            "prioritize_objects -> summarize_objects\n",
            "add_work_items_to_sprint -> works_list\n",
            "get_similar_work_items -> works_list\n",
            "get_similar_work_items -> add_work_items_to_sprint\n",
            "get_similar_work_items -> search_object_by_name\n",
            "get_similar_work_items -> create_actionable_tasks_from_text\n",
            "get_similar_work_items -> assign_work_items\n",
            "get_similar_work_items -> validate_work_dependency\n",
            "get_similar_work_items -> sync_work_items_with_calendar\n",
            "get_similar_work_items -> list_sprint_work_items\n",
            "get_similar_work_items -> filter_by_status\n",
            "get_similar_work_items -> merge_work_items\n",
            "search_object_by_name -> summarize_objects\n",
            "search_object_by_name -> prioritize_objects\n",
            "create_actionable_tasks_from_text -> works_list\n",
            "create_actionable_tasks_from_text -> add_work_items_to_sprint\n",
            "create_actionable_tasks_from_text -> get_similar_work_items\n",
            "create_actionable_tasks_from_text -> search_object_by_name\n",
            "create_actionable_tasks_from_text -> assign_work_items\n",
            "create_actionable_tasks_from_text -> validate_work_dependency\n",
            "create_actionable_tasks_from_text -> sync_work_items_with_calendar\n",
            "create_actionable_tasks_from_text -> list_sprint_work_items\n",
            "create_actionable_tasks_from_text -> filter_by_status\n",
            "create_actionable_tasks_from_text -> merge_work_items\n",
            "assign_work_items -> works_list\n",
            "validate_work_dependency -> works_list\n",
            "sync_work_items_with_calendar -> works_list\n",
            "list_sprint_work_items -> summarize_objects\n",
            "list_sprint_work_items -> prioritize_objects\n"
          ]
        }
      ]
    },
    {
      "cell_type": "code",
      "source": [
        "import networkx as nx\n",
        "import matplotlib.pyplot as plt\n",
        "\n",
        "nx.draw(G, with_labels=True, node_color='lightblue', node_size=500, font_size=10, font_color='black', edge_color='gray')\n",
        "\n",
        "# Show the graph\n",
        "plt.show()\n"
      ],
      "metadata": {
        "execution": {
          "iopub.status.busy": "2024-10-14T15:39:32.065264Z",
          "iopub.execute_input": "2024-10-14T15:39:32.065955Z",
          "iopub.status.idle": "2024-10-14T15:39:32.671927Z",
          "shell.execute_reply.started": "2024-10-14T15:39:32.065903Z",
          "shell.execute_reply": "2024-10-14T15:39:32.670693Z"
        },
        "trusted": true,
        "id": "_pjJIUfZqMTr",
        "colab": {
          "base_uri": "https://localhost:8080/",
          "height": 0
        },
        "outputId": "92684fba-75d9-4227-8c55-57c2c214c852"
      },
      "execution_count": 8,
      "outputs": [
        {
          "output_type": "display_data",
          "data": {
            "text/plain": [
              "<Figure size 640x480 with 1 Axes>"
            ],
            "image/png": "[encoded data removed]"
          },
          "metadata": {}
        }
      ]
    },
    {
      "cell_type": "markdown",
      "source": [
        "# reading sample text"
      ],
      "metadata": {
        "id": "qo_rpNvNlFIH"
      }
    },
    {
      "cell_type": "code",
      "source": [
        "with open('sample_examples.txt', 'r') as file:\n",
        "  queries=[]\n",
        "  solutions=[]\n",
        "  running_soln=\"\"\n",
        "  lines = file.readlines()\n",
        "  for line in lines:\n",
        "    line = line.strip()  # Remove leading/trailing whitespace\n",
        "    if line.startswith(\"Query:\"):\n",
        "      query = line.replace(\"Query:\", \"\").strip()  # Get query text\n",
        "      queries.append(query)\n",
        "    elif line.startswith(\"Solution:\"):\n",
        "      if len(queries)!=1:\n",
        "        solutions.append(running_soln)\n",
        "        running_soln=\"\"\n",
        "      solution = line.replace(\"Solution:\", \"\").strip()\n",
        "      running_soln=running_soln+solution\n",
        "    else:\n",
        "      running_soln=running_soln+line\n",
        "  solutions.append(running_soln)"
      ],
      "metadata": {
        "id": "bgrD9rMglIGT"
      },
      "execution_count": 9,
      "outputs": []
    },
    {
      "cell_type": "markdown",
      "source": [
        "# Augmenting the tool description"
      ],
      "metadata": {
        "id": "nY7D8NvXqMTs"
      }
    },
    {
      "cell_type": "code",
      "source": [
        "api_key = \"OLh5cL6Lkh1Y9tXWXBQiUX79EKfrZDOc\"\n",
        "model = \"mistral-small-latest\""
      ],
      "metadata": {
        "execution": {
          "iopub.status.busy": "2024-10-14T15:39:32.673254Z",
          "iopub.execute_input": "2024-10-14T15:39:32.673626Z",
          "iopub.status.idle": "2024-10-14T15:39:32.707147Z",
          "shell.execute_reply.started": "2024-10-14T15:39:32.673586Z",
          "shell.execute_reply": "2024-10-14T15:39:32.706116Z"
        },
        "trusted": true,
        "id": "eFeMpZjYqMTs"
      },
      "execution_count": 10,
      "outputs": []
    },
    {
      "cell_type": "code",
      "source": [
        "client = Mistral(api_key=api_key)"
      ],
      "metadata": {
        "id": "Gnh5BZJ0bM_r"
      },
      "execution_count": 11,
      "outputs": []
    },
    {
      "cell_type": "code",
      "source": [
        "def augment_description(i):\n",
        "    chat_response = client.chat.complete(\n",
        "        model= model,\n",
        "        messages = [\n",
        "            {\n",
        "                \"role\": \"system\",\n",
        "                \"content\": \"You are an AI assistant designed to understand and explain the functionality of API tools. Your task is to analyze the given tool, break down its arguments, and generate a clear, concise, and informative description.\"\n",
        "            },\n",
        "            {\n",
        "                \"role\": \"assistant\",\n",
        "                \"content\": \"Your task is to provide a detailed description of the provided tool's functionality. Carefully explain each argument it accepts, how the tool works, and what kind of output it generates. Summarize its purpose in a way that highlights its use cases, keeping the explanation clear for developers. Output the description in two sentences.\"\n",
        "            },\n",
        "            {\n",
        "                \"role\": \"user\",\n",
        "                \"content\": f\"You are provided with the following tool, including its structure and arguments: {str(data[i])}.\"\n",
        "            }\n",
        "        ]\n",
        "    )\n",
        "    return chat_response.choices[0].message.content\n"
      ],
      "metadata": {
        "id": "18jkrbrK7YRb"
      },
      "execution_count": 12,
      "outputs": []
    },
    {
      "cell_type": "code",
      "source": [
        "descriptiond=[]\n",
        "for i in range(len(data)):\n",
        "  descriptiond.append(augment_description(i))\n",
        "  time.sleep(5)"
      ],
      "metadata": {
        "collapsed": true,
        "id": "9pmlInEH7bCf"
      },
      "execution_count": 13,
      "outputs": []
    },
    {
      "cell_type": "code",
      "source": [
        "len(descriptiond)"
      ],
      "metadata": {
        "colab": {
          "base_uri": "https://localhost:8080/",
          "height": 0
        },
        "id": "XmCqooNK8uHN",
        "outputId": "e934b393-1236-4bdc-c407-1bd3a2299c0d"
      },
      "execution_count": 14,
      "outputs": [
        {
          "output_type": "execute_result",
          "data": {
            "text/plain": [
              "15"
            ]
          },
          "metadata": {},
          "execution_count": 14
        }
      ]
    },
    {
      "cell_type": "code",
      "source": [
        "new_descriptiond = []\n",
        "for i in range(len(descriptiond)):\n",
        "  new_description = str(data[i]['tool_name']) + ':' + str(descriptiond[i])\n",
        "  new_descriptiond.append(new_description)\n",
        "descriptions = new_descriptiond\n",
        "new_descriptiond"
      ],
      "metadata": {
        "colab": {
          "base_uri": "https://localhost:8080/",
          "height": 0
        },
        "id": "1nbosdOD822b",
        "outputId": "ecf91fde-514f-45a3-b613-61195a11dd9e",
        "collapsed": true
      },
      "execution_count": 15,
      "outputs": [
        {
          "output_type": "execute_result",
          "data": {
            "text/plain": [
              "[\"who_am_i:The tool 'who_am_i' is designed to return the ID of the current user. It does not accept any arguments and its output is a required string value. This tool is particularly useful for scenarios where you need to identify the current user's ID for authentication or personalization purposes in web applications.\",\n",
              " \"get_sprint_id:The tool 'get_sprint_id' is designed to retrieve the ID of the current sprint. It does not accept any arguments (`args: []`) and generates a single, required string output (`output: {'arg_type': 'str', 'is_array': False, 'is_required': True}`) containing the ID of the current sprint. This tool is useful for developers and project managers who need to programmatically access sprint information for tasks like automation, reporting, and integration with other tools.\",\n",
              " \"works_list:The 'works_list' tool is designed to return a list of work items that match specified criteria. It accepts a variety of filtering arguments such as 'applies_to_part' for work belonging to certain parts, 'created_by' for work created by specific users, and 'issue_priority' for issues with certain priorities. Additionally, it offers limits on the number of returned items and includes filters for ownership, stage names, and various ticket properties like need for response, severity, and source channels. The tool outputs a single non-array result that contains the filtered list of work items, making it useful for developers to query and manage work items based on specific attributes.\",\n",
              " \"summarize_objects:The tool named 'summarize_objects' takes a list of objects as input, regardless of their type, and generates a summary of these objects. The specific logic for summarizing different object types is handled internally by the tool. The output is a single, summarized result. This tool is useful for developers who need to condense or extract key information from a collection of varied data objects efficiently.\",\n",
              " \"prioritize_objects:The tool 'prioritize_objects' sorts a list of objects by priority, based on internal logic. It accepts an optional 'objects' argument, which is a list of objects to be prioritized, and outputs a sorted list of these objects. This tool is particularly useful for developers who need to organize data based on importance or relevance without worrying about the underlying sorting details.\",\n",
              " \"add_work_items_to_sprint:The tool 'add_work_items_to_sprint' is designed to add specified work items to a designated sprint. It accepts two required arguments: 'work_ids' (a list of work item IDs to be added) and 'sprint_id' (the ID of the sprint to which the work items should be added). The tool outputs a boolean value indicating the success or failure of the operation. This tool is particularly useful for project managers and developers who need to efficiently manage and organize work items within sprints in their project management workflows.\",\n",
              " \"get_similar_work_items:The tool 'get_similar_work_items' is designed to return a list of work items that are similar to a given work item. It accepts a single argument 'work_id' (string, required), which is the ID of the work item for which similar items are sought. The output is an array of strings, each representing a similar work item. This tool is particularly useful for developers who need to find related work items based on a specific ID, enhancing productivity and efficiency in task management and collaboration platforms.\",\n",
              " \"search_object_by_name:The tool named 'search_object_by_name' is designed to search for an object within a system of record based on a provided search string. It accepts a single required argument, 'query', which specifies the search string for the object. The tool then returns the ID of the matching object with the highest confidence, if multiple matches are found. This tool is particularly useful for quickly locating specific objects in a system based on partial or full names, making it ideal for tasks like customer or part lookups.\",\n",
              " \"create_actionable_tasks_from_text:The tool 'create_actionable_tasks_from_text' analyzes input text to extract actionable insights and generates a list of tasks, essentially converting the text into work items. It accepts a single argument 'text' (string, required), which is the source text for extracting actionable insights. The output is a list of tasks (strings), providing a clear and actionable summary of the input text. This tool is particularly useful for project managers and teams to quickly convert textual information into actionable tasks.\",\n",
              " \"assign_work_items:The tool 'assign_work_items' is designed to assign specified work items to a user. It accepts a list of work item IDs (e.g., ['TASK-456', 'ISSUE-789']) and a user ID (e.g., 'DEVU-456') as required arguments, and it outputs a boolean value indicating the success or failure of the assignment operation. This tool is particularly useful for project managers to delegate tasks efficiently within a team.\",\n",
              " \"validate_work_dependency:The tool named 'validate_work_dependency' is designed to check if specified work items have dependencies and validates their status. It accepts a single argument, `work_item_ids`, which is a required, array of strings representing IDs of work items to be checked for dependencies. The tool generates a boolean array as output, indicating the validation status of each work item. This tool is particularly useful for developers and project managers to ensure that work items are appropriately linked and their statuses are consistent.\",\n",
              " \"sync_work_items_with_calendar:The tool 'sync_work_items_with_calendar' synchronizes specified work items with a user's calendar to manage deadlines and reminders. It accepts the user ID (string, required) and a list of work item IDs (string, required, array) to be synchronized, and outputs a boolean value indicating the success or failure of the synchronization process. This tool is particularly useful for developers and project managers to ensure that important work items are integrated into their calendar system for better task management and timely reminders.\",\n",
              " \"list_sprint_work_items:The tool 'list_sprint_work_items' is designed to list all work items associated with a specific sprint. It requires a single argument, 'sprint_id', which is a string specifying the ID of the sprint to retrieve work items for. The output is an array of any type, containing the work items associated with the specified sprint. This tool is particularly useful for developers and project managers who need to track and manage work items within a specific sprint.\",\n",
              " \"filter_by_status:The tool 'filter_by_status' is designed to filter and return work items based on their status. It accepts two required arguments: 'status' (a list of strings specifying the statuses to filter by) and 'work_ids' (a list of strings containing the IDs of the work items to be filtered). The output is a list of work items that match the specified criteria. This tool is particularly useful for project managers and developers who need to quickly identify and manage work items based on their current status.\",\n",
              " 'merge_work_items:The `merge_work_items` tool is designed to combine multiple work items into a single item. It accepts two main arguments: `source_work_ids` and `target_work_id`. The `source_work_ids` is a required array of strings representing the IDs of the work items to merge, while `target_work_id` is a required string representing the ID of the target work item to merge into. The tool outputs a single object that contains the merged work items. This tool is particularly useful for project management and task tracking systems where consolidating related tasks or issues into one can streamline workflows and improve organization.']"
            ]
          },
          "metadata": {},
          "execution_count": 15
        }
      ]
    },
    {
      "cell_type": "code",
      "source": [
        "len(descriptions)"
      ],
      "metadata": {
        "colab": {
          "base_uri": "https://localhost:8080/",
          "height": 0
        },
        "id": "M5myO6ocsmeE",
        "outputId": "d3c6a8f9-5a2a-49ed-d800-b817ab1969e4"
      },
      "execution_count": 16,
      "outputs": [
        {
          "output_type": "execute_result",
          "data": {
            "text/plain": [
              "15"
            ]
          },
          "metadata": {},
          "execution_count": 16
        }
      ]
    },
    {
      "cell_type": "code",
      "source": [
        "for i in range(len(descriptions)):\n",
        "    tool = descriptions[i].split(':')[0]\n",
        "    data[i]['tool_description'] = descriptions[i].split(':')[1]"
      ],
      "metadata": {
        "execution": {
          "iopub.status.busy": "2024-10-14T15:39:33.921437Z",
          "iopub.execute_input": "2024-10-14T15:39:33.921878Z",
          "iopub.status.idle": "2024-10-14T15:39:33.927883Z",
          "shell.execute_reply.started": "2024-10-14T15:39:33.921835Z",
          "shell.execute_reply": "2024-10-14T15:39:33.926692Z"
        },
        "trusted": true,
        "id": "u8zhG1k8qMTt"
      },
      "execution_count": 17,
      "outputs": []
    },
    {
      "cell_type": "code",
      "source": [
        "data[3]"
      ],
      "metadata": {
        "colab": {
          "base_uri": "https://localhost:8080/",
          "height": 0
        },
        "outputId": "2abf1804-5013-4237-b840-14b11bdb5161",
        "id": "7t6uhKH8j8qt"
      },
      "execution_count": 18,
      "outputs": [
        {
          "output_type": "execute_result",
          "data": {
            "text/plain": [
              "{'tool_name': 'summarize_objects',\n",
              " 'tool_description': \"The tool named 'summarize_objects' takes a list of objects as input, regardless of their type, and generates a summary of these objects. The specific logic for summarizing different object types is handled internally by the tool. The output is a single, summarized result. This tool is useful for developers who need to condense or extract key information from a collection of varied data objects efficiently.\",\n",
              " 'args': [{'arg_name': 'objects',\n",
              "   'arg_type': 'any',\n",
              "   'is_array': True,\n",
              "   'is_required': True,\n",
              "   'arg_description': 'List of objects to summarize'}],\n",
              " 'output': {'arg_type': 'any', 'is_array': False, 'is_required': True}}"
            ]
          },
          "metadata": {},
          "execution_count": 18
        }
      ]
    },
    {
      "cell_type": "markdown",
      "source": [
        "# defining functions"
      ],
      "metadata": {
        "id": "baTxRpIWj5cO"
      }
    },
    {
      "cell_type": "markdown",
      "source": [
        "## Retrieving tools based on L2 search"
      ],
      "metadata": {
        "id": "-_7kW673qMTt"
      }
    },
    {
      "cell_type": "code",
      "source": [
        "import faiss\n",
        "import numpy as np\n",
        "from sentence_transformers import SentenceTransformer\n",
        "\n",
        "model1 = SentenceTransformer(\"ToolBench/ToolBench_IR_bert_based_uncased\")\n",
        "\n",
        "def generate_embeddings(descriptions, model1, t='cosine', add_tools=False, pre_index=None):\n",
        "    sentences = descriptions\n",
        "    embeddings = model1.encode(sentences)\n",
        "\n",
        "    if (t == 'cosine'):\n",
        "        embeddings = embeddings / np.linalg.norm(embeddings, axis=1, keepdims=True) # Normalize the embeddings to use cosine similarity (L2 norm of 1)\n",
        "\n",
        "    embedding_dimension = embeddings.shape[1]\n",
        "\n",
        "    if(add_tools):\n",
        "        index = pre_index\n",
        "    else:\n",
        "        if (t=='cosine'):\n",
        "            index = faiss.IndexFlatIP(embedding_dimension)\n",
        "        else:\n",
        "            index = faiss.IndexFlatL2(embedding_dimension)\n",
        "\n",
        "    index.add(embeddings)\n",
        "    return index\n",
        "\n",
        "index = generate_embeddings(descriptions, model1, t='cosine')\n",
        "print('faiss index generated')"
      ],
      "metadata": {
        "execution": {
          "iopub.status.busy": "2024-10-14T16:05:29.54104Z",
          "iopub.execute_input": "2024-10-14T16:05:29.541969Z",
          "iopub.status.idle": "2024-10-14T16:05:36.660876Z",
          "shell.execute_reply.started": "2024-10-14T16:05:29.54192Z",
          "shell.execute_reply": "2024-10-14T16:05:36.659648Z"
        },
        "trusted": true,
        "id": "qkjutXwAqMTu",
        "colab": {
          "base_uri": "https://localhost:8080/",
          "height": 580,
          "referenced_widgets": [
            "fd2ce059f14644368d6f6814808e1c56",
            "2448ae57cead4bbcacb5cafbfb9be200",
            "e6da7be469c7482b828d5addd4472988",
            "89d10287e1c54532818228062b91d24a",
            "28a00a944e794a34808ac79419ebaa63",
            "bc035514671645bd8478649f1d36ef04",
            "3391c044dff04e57b7a2e5473ed2fcf3",
            "fd93caa0e6104b2984609ca45a374bf7",
            "c966a85d223941d594946da822f061b5",
            "4a36364d42ba496c8dbdb57eee19fabc",
            "a0b9fe2d4ab94edb86ba9a34cec5f297",
            "d47f961fe5464354b9f49a4c26f6d897",
            "5c4e7d943c494f8fae12452347c23849",
            "d544ed730bf74d12ac490c8344e18572",
            "3efbda4f51fd4ed3bc3bededfb7e13fd",
            "4e593e93f9304470be3b4b351f49bf6f",
            "5f73ec3d35c84c099ecfbdb7d9d2c712",
            "f6b72f6c2fa34914ab49e0d34ef29882",
            "3f10e796b07348379dec8777e393df31",
            "b60672fbb95949959b6d7f0286e7aff8",
            "bd8217fbaa40465d8d5f30c9dc6cc8e8",
            "fc0fff1d172f4de78853ab7f65cdf792",
            "59e6c39191934d5ca2f76a141908ae82",
            "5ecb6160f0ce4c82b64537107d11dd75",
            "3497cf9472fa4b24802ad9bf85d4b8d0",
            "8be27bab830340c4957b3f70b57fe12e",
            "fda5eab4554249bc88e307de50d77a5c",
            "c46f7200e73d4b4984051228e7bcd69e",
            "8f73ae96af124d11b85e1ba2842da267",
            "09af0fdf0f5448f7a37613083ba20bb0",
            "b8af177823c644a098add43b1dc3284a",
            "3d0745a7c8d541709aed3471f4eb1440",
            "67bb709368eb4838b8c99be35dad44af",
            "46bbba082744473c92eae5d9e3637214",
            "fe2caaf428b14871913c71959ba73643",
            "424c8d5f5d634db486f91ed27c8a55cd",
            "d8184a00b87645b7804c88e5f5b4f543",
            "d508ce86e702424790f8c810aa02e352",
            "cdf8ce4537214e9d827af1a5dfc98d00",
            "cc872db9db644fd1831e23671592c0ad",
            "20a991ae342448abad07b945dcb9f7ed",
            "55d07d9ef3854b11888edf6cd19d8d0d",
            "69f0adbe26194e14828a78278a287171",
            "0a8b9cb9cba644109095c3cc0dfae77f",
            "f4940a6dc5cb4b03ba381beeec8fff68",
            "0841b140be13439789b897947ce812d0",
            "5df1c09c454a497991201dda48e74ccf",
            "a6ae78bed71a4d7ca5aa3a71207d462f",
            "b936a1c3830e4bd7a9b9f6346a871071",
            "14a93adbed95427eb454d0f8d5e65eee",
            "8ad1b801639e44238988ba74cf391071",
            "e5edc479913f405a91e9dee7b6d0c893",
            "01a3f53541a346b2a7344a7dc5f0a1f6",
            "d3ee35231d7047aeaa1e9ac42b5b9283",
            "1c2e0b040d9f42ed88f77e00d133f105",
            "5a615f2e977549f0afb6c72b03288008",
            "cedf490308604437bc981f333efc0f95",
            "b8650764d7d448b781061deb4d3ee905",
            "49cc62394f854ab896543468e56e09ee",
            "9e2678e6fbd84bb783f53ced88bd78cb",
            "5a28f610e57b45e5948534430ba229c1",
            "9703c34950b84216923ab101c64803a6",
            "40a5069bf7ef49a59efc2f8f4dcea4bb",
            "bb7143e8316a4dd1bfc9f594befead01",
            "5867792a4ded4fb893136c20eca82a1e",
            "a0ecaf24e7344a399a5b544792c125e0",
            "3434ba7f7a844049a664a8cd4736900d",
            "14589f212b4b4b7a863d5248ad0e6f18",
            "bf59ab4f5c91414296067e6f7b83e599",
            "80ec22481d2c4aa6be8c3c72127c84dd",
            "b670ef6a965a4cfa82653d3a3a58f5bc",
            "90c9c69490914e8886a977667b5523e5",
            "830339915f3543778cf70cc5653277ff",
            "15af8564f2be4229993fd51671c6e354",
            "15bb71aa23b5476dae00d9b5d1c001c6",
            "f8f53ab374b646a18b6d334717060187",
            "c4def402a8924938868736178b8f2d89",
            "2b1411aaaf8f44d1b259f444d7526744",
            "e617d829e4514b14b03bf1121d1e8928",
            "aef64c81548d4354965114b71dc97acf",
            "e3d7648df7a4496c87acf4cee302bda8",
            "90c737d3cd5447d6bb1cfece1527014e",
            "f880002fcc4048da91179ae1f2ae7441",
            "1502fa9ce4fd44028723a1f33e2e2eab",
            "2a934ec6d52d46c1ac045ab6eecb4596",
            "c7516f8dd2ee41a4ac611854b4b84c31",
            "3f2bc24d085c419eb6cb12b46b9eea89",
            "d5892aed518f44629548f9b7fdf4253b",
            "9e29c0af8b4e498ba7a26891c89a83b1",
            "14a005a176044db5b805277b004228d5",
            "19e08e067267483ab1ed2a4460522123",
            "17ba68fa3c8940c48053a563ec7c0bdc",
            "3775419e1976440c99998d8035f8d208",
            "ebb161468fbb4399a4f27a21b399d0ac",
            "8fe205559ed44a29b1a6a36efd14a299",
            "53ac0af2303c4701a0fc808adda78739",
            "4c029d5cdcb343a6a5ac99bed725cdb6",
            "5d77a4b39b9c4e9a9c4d0b1b4dc6af0a",
            "e14312aa8f92488fa88275538c06ab31",
            "d350187514224ee69ed371af58f8e4e1",
            "753d56c9eb654c31a4b595e7c999de37",
            "5d3612b974364b5b9813eadcd15e6cf9",
            "6a25aefce4264b79a7ca6627956c17a9",
            "e31ad495c1204325a8a405b29a26fa80",
            "944626d17b5f4515bc6f8aa93c020a59",
            "6426848a461e4937a3928b2bf7dfd935",
            "851943552bdd42fc8ca64b1fa06b8d1f",
            "b8109915f5284926a47274120da543ce",
            "574f5e9a70064570901bc229856662d5",
            "a38baf6b3a75441fa84f629ecfcbdc56",
            "70b878c660424bf095d752623b73c8fe",
            "b27aa74e3c7a4b7b8de3d53f0a82521d",
            "5e2dea9658164310a10673904e0da663",
            "923a8b9dd930498da2c611fb0be68642",
            "de8b714b2ca045eeb2e6509a9be7badc",
            "1bbd1fa45c974b72b152674abfba3b2e",
            "69ca44e534c74883b8499eda504931ec",
            "ae51839565c64c668fada2188c8cfeef",
            "ba4ef16c3f624f148c9f26b2e111bac6",
            "e14faa7d146f4b6ea05cb169c9afd3a4",
            "4f2875b0b14f4e358073aa4b63e30c29"
          ]
        },
        "outputId": "0f904c2e-0f58-47ae-85ec-9bb09e37ed68"
      },
      "execution_count": 19,
      "outputs": [
        {
          "output_type": "stream",
          "name": "stderr",
          "text": [
            "/usr/local/lib/python3.10/dist-packages/sentence_transformers/cross_encoder/CrossEncoder.py:13: TqdmExperimentalWarning: Using `tqdm.autonotebook.tqdm` in notebook mode. Use `tqdm.tqdm` instead to force console mode (e.g. in jupyter console)\n",
            "  from tqdm.autonotebook import tqdm, trange\n",
            "/usr/local/lib/python3.10/dist-packages/huggingface_hub/utils/_token.py:89: UserWarning: \n",
            "The secret `HF_TOKEN` does not exist in your Colab secrets.\n",
            "To authenticate with the Hugging Face Hub, create a token in your settings tab (https://huggingface.co/settings/tokens), set it as secret in your Google Colab and restart your session.\n",
            "You will be able to reuse this secret in all of your notebooks.\n",
            "Please note that authentication is recommended but still optional to access public models or datasets.\n",
            "  warnings.warn(\n"
          ]
        },
        {
          "output_type": "display_data",
          "data": {
            "text/plain": [
              "modules.json:   0%|          | 0.00/229 [00:00<?, ?B/s]"
            ],
            "application/vnd.jupyter.widget-view+json": {
              "version_major": 2,
              "version_minor": 0,
              "model_id": "fd2ce059f14644368d6f6814808e1c56"
            }
          },
          "metadata": {}
        },
        {
          "output_type": "display_data",
          "data": {
            "text/plain": [
              "config_sentence_transformers.json:   0%|          | 0.00/123 [00:00<?, ?B/s]"
            ],
            "application/vnd.jupyter.widget-view+json": {
              "version_major": 2,
              "version_minor": 0,
              "model_id": "d47f961fe5464354b9f49a4c26f6d897"
            }
          },
          "metadata": {}
        },
        {
          "output_type": "display_data",
          "data": {
            "text/plain": [
              "README.md:   0%|          | 0.00/3.81k [00:00<?, ?B/s]"
            ],
            "application/vnd.jupyter.widget-view+json": {
              "version_major": 2,
              "version_minor": 0,
              "model_id": "59e6c39191934d5ca2f76a141908ae82"
            }
          },
          "metadata": {}
        },
        {
          "output_type": "display_data",
          "data": {
            "text/plain": [
              "sentence_bert_config.json:   0%|          | 0.00/53.0 [00:00<?, ?B/s]"
            ],
            "application/vnd.jupyter.widget-view+json": {
              "version_major": 2,
              "version_minor": 0,
              "model_id": "46bbba082744473c92eae5d9e3637214"
            }
          },
          "metadata": {}
        },
        {
          "output_type": "display_data",
          "data": {
            "text/plain": [
              "config.json:   0%|          | 0.00/831 [00:00<?, ?B/s]"
            ],
            "application/vnd.jupyter.widget-view+json": {
              "version_major": 2,
              "version_minor": 0,
              "model_id": "f4940a6dc5cb4b03ba381beeec8fff68"
            }
          },
          "metadata": {}
        },
        {
          "output_type": "display_data",
          "data": {
            "text/plain": [
              "pytorch_model.bin:   0%|          | 0.00/438M [00:00<?, ?B/s]"
            ],
            "application/vnd.jupyter.widget-view+json": {
              "version_major": 2,
              "version_minor": 0,
              "model_id": "5a615f2e977549f0afb6c72b03288008"
            }
          },
          "metadata": {}
        },
        {
          "output_type": "display_data",
          "data": {
            "text/plain": [
              "tokenizer_config.json:   0%|          | 0.00/439 [00:00<?, ?B/s]"
            ],
            "application/vnd.jupyter.widget-view+json": {
              "version_major": 2,
              "version_minor": 0,
              "model_id": "3434ba7f7a844049a664a8cd4736900d"
            }
          },
          "metadata": {}
        },
        {
          "output_type": "display_data",
          "data": {
            "text/plain": [
              "vocab.txt:   0%|          | 0.00/232k [00:00<?, ?B/s]"
            ],
            "application/vnd.jupyter.widget-view+json": {
              "version_major": 2,
              "version_minor": 0,
              "model_id": "2b1411aaaf8f44d1b259f444d7526744"
            }
          },
          "metadata": {}
        },
        {
          "output_type": "display_data",
          "data": {
            "text/plain": [
              "tokenizer.json:   0%|          | 0.00/712k [00:00<?, ?B/s]"
            ],
            "application/vnd.jupyter.widget-view+json": {
              "version_major": 2,
              "version_minor": 0,
              "model_id": "9e29c0af8b4e498ba7a26891c89a83b1"
            }
          },
          "metadata": {}
        },
        {
          "output_type": "display_data",
          "data": {
            "text/plain": [
              "special_tokens_map.json:   0%|          | 0.00/125 [00:00<?, ?B/s]"
            ],
            "application/vnd.jupyter.widget-view+json": {
              "version_major": 2,
              "version_minor": 0,
              "model_id": "d350187514224ee69ed371af58f8e4e1"
            }
          },
          "metadata": {}
        },
        {
          "output_type": "stream",
          "name": "stderr",
          "text": [
            "/usr/local/lib/python3.10/dist-packages/transformers/tokenization_utils_base.py:1601: FutureWarning: `clean_up_tokenization_spaces` was not set. It will be set to `True` by default. This behavior will be depracted in transformers v4.45, and will be then set to `False` by default. For more details check this issue: https://github.com/huggingface/transformers/issues/31884\n",
            "  warnings.warn(\n"
          ]
        },
        {
          "output_type": "display_data",
          "data": {
            "text/plain": [
              "1_Pooling/config.json:   0%|          | 0.00/190 [00:00<?, ?B/s]"
            ],
            "application/vnd.jupyter.widget-view+json": {
              "version_major": 2,
              "version_minor": 0,
              "model_id": "70b878c660424bf095d752623b73c8fe"
            }
          },
          "metadata": {}
        },
        {
          "output_type": "stream",
          "name": "stdout",
          "text": [
            "faiss index generated\n"
          ]
        }
      ]
    },
    {
      "cell_type": "code",
      "source": [
        "def return_retrieved_tools(query, model, index, k, t='cosine'):\n",
        "    query_embedding = model.encode([query])\n",
        "    relevance_dict={}\n",
        "\n",
        "    if (t == 'cosine'):\n",
        "        query_embedding = query_embedding / np.linalg.norm(query_embedding, axis=1, keepdims=True)\n",
        "    distances, indices = index.search(query_embedding, k)\n",
        "\n",
        "    tools = []\n",
        "    for i, idx in enumerate(indices[0]):\n",
        "        tool_name = descriptions[idx].split(':')[0]\n",
        "        matching_tools = [tool for tool in data if tool['tool_name'] == tool_name]\n",
        "        relevance_dict[tool_name] = distances[0][i]\n",
        "        tools.append(str(matching_tools[0]))\n",
        "\n",
        "\n",
        "\n",
        "    return (distances, indices, tools, relevance_dict)"
      ],
      "metadata": {
        "execution": {
          "iopub.status.busy": "2024-10-14T16:05:36.662707Z",
          "iopub.execute_input": "2024-10-14T16:05:36.663093Z",
          "iopub.status.idle": "2024-10-14T16:05:36.780166Z",
          "shell.execute_reply.started": "2024-10-14T16:05:36.663056Z",
          "shell.execute_reply": "2024-10-14T16:05:36.779143Z"
        },
        "trusted": true,
        "id": "GhkmaaT4qMTu"
      },
      "execution_count": 20,
      "outputs": []
    },
    {
      "cell_type": "markdown",
      "source": [
        "## Graph based augmentation"
      ],
      "metadata": {
        "id": "VfaELbFekTtm"
      }
    },
    {
      "cell_type": "code",
      "source": [
        "from collections import deque\n",
        "import networkx as nx\n",
        "\n",
        "def calculate_r_values(G, tools, relevance_dict, gamma):\n",
        "    r_values = relevance_dict\n",
        "\n",
        "    for tool in tools:\n",
        "        queue = deque([(tool, 0, 0)])  # Track each tool with its level (depth)\n",
        "\n",
        "        while queue:\n",
        "            current_tool, level, cur_w = queue.popleft()\n",
        "\n",
        "\n",
        "            for ancestor in G.predecessors(current_tool):\n",
        "#                 print(ancestor)\n",
        "                if ancestor not in r_values:\n",
        "                    edge_data = G.get_edge_data(ancestor, current_tool)\n",
        "                    weight = edge_data['weight']\n",
        "\n",
        "                    t = level + 1  # Ancestor is one level higher than current tool\n",
        "\n",
        "                    # Apply annealing factor gamma^t to the weight\n",
        "                    annealed_weight = weight * (gamma ** t) + cur_w\n",
        "\n",
        "                    if current_tool in relevance_dict:\n",
        "                        r_value = relevance_dict[current_tool] * annealed_weight\n",
        "                        r_values[ancestor] = r_value\n",
        "\n",
        "                    # Add ancestor to the queue with incremented level\n",
        "                    queue.append((ancestor, t, r_value))\n",
        "\n",
        "    return r_values"
      ],
      "metadata": {
        "execution": {
          "iopub.status.busy": "2024-10-14T16:06:06.493839Z",
          "iopub.execute_input": "2024-10-14T16:06:06.494309Z",
          "iopub.status.idle": "2024-10-14T16:06:06.503826Z",
          "shell.execute_reply.started": "2024-10-14T16:06:06.494264Z",
          "shell.execute_reply": "2024-10-14T16:06:06.502412Z"
        },
        "trusted": true,
        "id": "YyJ9pKjqqMTv"
      },
      "execution_count": 21,
      "outputs": []
    },
    {
      "cell_type": "markdown",
      "source": [
        "## extracting thought and tools"
      ],
      "metadata": {
        "id": "3miQCFbtn8tT"
      }
    },
    {
      "cell_type": "code",
      "source": [
        "import re\n",
        "\n",
        "def extract_solution(text):\n",
        "    # Use regex to find text between <Solution> and </Solution> tags\n",
        "    match = re.search(r'<Solution>(.*?)</Solution>', text, re.DOTALL)\n",
        "    if match:\n",
        "        return match.group(1).strip()\n",
        "    else:\n",
        "        return None\n",
        "\n",
        "def extract_tools(thoughts):\n",
        "    thoughts = json.loads(thoughts)\n",
        "    tool_names = [item[\"tool_name\"] for item in thoughts if \"tool_name\" in item]\n",
        "    tools = []\n",
        "    #print(tool_names)\n",
        "#     print(tool_names)\n",
        "    for tool in tool_names:\n",
        "#         print(tool)\n",
        "        matching_tools = [tool1 for tool1 in data if tool1['tool_name'] == tool]\n",
        "        #print(matching_tools)\n",
        "        if matching_tools:\n",
        "          tools.append(matching_tools[0])\n",
        "    return tools"
      ],
      "metadata": {
        "id": "F6uZvVk9n8La"
      },
      "execution_count": 22,
      "outputs": []
    },
    {
      "cell_type": "markdown",
      "source": [
        "## prompt templates"
      ],
      "metadata": {
        "id": "_2vbharIm7O2"
      }
    },
    {
      "cell_type": "code",
      "source": [
        "prompt = \"\"\"\n",
        "    \"You are a helpful assistant. Your job is to decompose a user query into tasks that can be solved with one tool each.\n",
        "    Tools should be taken from the given tool list only\"\n",
        "    \"1. Analyse the list of tools and split the query into tasks. Solve the problem by thinking step by step. \"\n",
        "    \"2. In each thought, think about what the next step should be in order to solve the problem, based on the available tools. \"\n",
        "    \"Explain why the tool is required. \"\n",
        "    \"3. Find the required tool that should be called (make sure it is related to the thought), and construct a task to be completed using it, based on the thought. \"\n",
        "    \"If no tool is required, do not use any tool and return an empty list [] as the solution.\"\n",
        "    \"4. Ensure that each task contains the necessary information to call the tool associated with it. Do not create unnecessary steps if they haven't been mentioned in the query. \"\n",
        "    If the user request can’t be parsed, you need to reply empty JSON []. You should always respond in the following format:\n",
        "<Solution><YOUR_SOLUTION></Solution>.\n",
        "YOUR_SOLUTION> should be strict with JSON format described above.\n",
        "Your knowledge base consists of tool descriptions and argument descriptions as explained below, if no tool given below satisfies, simply return an empty list:\n",
        "\n",
        "\"\"\""
      ],
      "metadata": {
        "id": "i3Nw_cGPm_WP"
      },
      "execution_count": 23,
      "outputs": []
    },
    {
      "cell_type": "code",
      "source": [
        "DECOMPOSITION_EXAMPLE=\"\"\"Example:\n",
        "        Query: Summarize high severity tickets from the customer (rev) UltimateCustomer and add them to the current sprint.\n",
        "        Solution:<Solution>\n",
        "        [\n",
        "            {\n",
        "                \"thought\": \"First, we need to get the id of the customer UltimateCustomer\",\n",
        "                \"tool_name\": \"search_object_by_name\",\n",
        "                \"task\": \"Use the search_object_by_name tool with the argument 'query' = UltimateCustomer\"\n",
        "            },\n",
        "            {\n",
        "                \"thought\": \"Next, we need to get the high severity tickets for the customer\",\n",
        "                \"tool_name\": \"works_list\",\n",
        "                \"task\": \"Use the works_list tool with the arguments: 'issue.rev_orgs' = \"$$PREV[0]\", 'ticket_severity' = 'high', and 'type' = 'ticket'.\"\n",
        "            },\n",
        "            {\n",
        "                \"thought\": \"Now, we need to summarize the high severity tickets obtained from the previous task\",\n",
        "                \"tool_name\": \"summarize_objects\",\n",
        "                \"task\": \"Use the summarize_objects tool with the output of the second task, argument 'objects' = \"$$PREV[1]\"\"\n",
        "            },\n",
        "            {\n",
        "                \"thought\": \"In order to add the tool to the current sprint, we need to get the current sprint ID\",\n",
        "                \"tool_name\": \"get_sprint_id\",\n",
        "                \"task\": \"Use the get_sprint_id tool to get the current sprint ID\"\n",
        "            },\n",
        "            {\n",
        "                \"thought\": \"Finally, we need to add the work items obtained using works_list in the second task to the current sprint, whose ID was obtained in the previous task.\",\n",
        "                \"tool_name\": \"add_work_items_to_sprint\",\n",
        "                \"task\": \"Use the add_work_items_to_sprint tool with arguments 'work_ids'='$$PREV[1]' and 'sprint_id'='$$PREV[3]'\n",
        "            }\n",
        "        ]</Solution>\n",
        "        \"\"\""
      ],
      "metadata": {
        "id": "TA3TyvLBnE3C"
      },
      "execution_count": 24,
      "outputs": []
    },
    {
      "cell_type": "code",
      "source": [
        "DECOMPOSITION_EXAMPLE_3=\"\"\"Example\n",
        "Query : Obtain work items from the customer support channel, summarize the ones related to part 'FEAT-345' part and prioritize them.\n",
        "Solution:<Solution>\n",
        "[\n",
        "    {\n",
        "        \"thought\": \"First, retrieve all work items from the customer support channel related to 'FEAT-345'.\",\n",
        "        \"tool_name\": \"works_list\",\n",
        "        \"task\": \"Use the 'works_list' tool with the arguments 'ticket.source_channel'= ['customer support'] and 'applies_to_part'= [\"FEAT-345\"].\"\n",
        "    },\n",
        "    {\n",
        "        \"thought\": \"Next, summarize the work items related to 'FEAT-345' for clarity.\",\n",
        "        \"tool_name\": \"summarize_objects\",\n",
        "        \"task\": \"Use the 'summarize_objects' tool with the 'objects' argument being the output from the 'works_list' tool, 'objects'='$$PREV[0]'.\"\n",
        "    },\n",
        "    {\n",
        "        \"thought\": \"Finally, prioritize the issues from the customer support channel that are urgent.\",\n",
        "        \"tool_name\": \"prioritize_objects\",\n",
        "        \"task\": \"Use the 'prioritize_objects' tool with the 'objects' argument being the output from the 'works_list' tool, argument 'objects' = '$$PREV[0]'.\"\n",
        "    }\n",
        "]</Solution>\n",
        "\"\"\"\n"
      ],
      "metadata": {
        "id": "oYgPRSJhoWTP"
      },
      "execution_count": 25,
      "outputs": []
    },
    {
      "cell_type": "code",
      "source": [
        "JSON_formatting_prompt = \"\"\"You are a helpful assistant. Your job is to output a json file which can be used to call the tool given\n",
        "below, based on the task given to you.\n",
        "You have implement the tools based on the `thoughts` given to you. Each thought corresponds to one tool.\n",
        "The output of the ith task can be referenced using \"$$PREV[i]\" (starts from 0). This is important,\n",
        "since many queries require a composition of tools.\n",
        "You can't reference tools that haven't been called yet.\n",
        "Tools must be explicitly called and cannot be called inside the arguments.\n",
        "\n",
        "Output only the json format and nothing else\n",
        "\"\"\""
      ],
      "metadata": {
        "id": "Xa0HZOybnLt2"
      },
      "execution_count": 26,
      "outputs": []
    },
    {
      "cell_type": "code",
      "source": [
        "TOOL_EXAMPLE=\"\"\"Example:\n",
        "        Query: Summarize high severity tickets from the customer UltimateCustomer.\n",
        "\n",
        "        Completed Tasks and thought process:\n",
        "        Task 0:\n",
        "        Thought: First, we need to get the id of the customer UltimateCustomer\n",
        "        Task: Use the search_object_by_name tool with the argument 'query' = UltimateCustomer\n",
        "        Tool_name: search_object_by_name\n",
        "\n",
        "        Your Task:\n",
        "        Task 1:\n",
        "        Thought: Next, we need to get the high severity tickets for the customer\n",
        "        Task: Use the works_list tool with the arguments: 'issue.rev_orgs' = \"$$PREV[0]\", 'ticket_severity' = 'high', and 'type' = 'ticket'.\n",
        "        Tool_name: works_list\n",
        "\n",
        "\n",
        "        Answer:\n",
        "        [{\n",
        "            \"tool_name\": \"works_list\",\n",
        "            \"arguments\": [\n",
        "            {\n",
        "                \"argument_name\": \"ticket_rev_org\",\n",
        "                \"argument_value\":\n",
        "                    '$$PREV[0]'\n",
        "\n",
        "            },\n",
        "            {\n",
        "                \"argument_name\": \"ticket_severity\",\n",
        "                \"argument_value\": [\n",
        "                    'high'\n",
        "                ]\n",
        "            },\n",
        "            {\n",
        "                \"argument_name\": \"type\",\n",
        "                \"argument_value\": [\n",
        "                'ticket'\n",
        "            ]\n",
        "            }\n",
        "        ]\n",
        "        }]\n",
        "        \"\"\""
      ],
      "metadata": {
        "id": "C0oFZOoqhPrJ"
      },
      "execution_count": 30,
      "outputs": []
    },
    {
      "cell_type": "code",
      "source": [
        "def preprocess(query,k):\n",
        "  distances, indices, tools, relevance_dict = return_retrieved_tools(query, model1, index, k=12, t='cosine')\n",
        "  retrieved_tools = [descriptions[i].split(':')[0] for i in indices[0]]\n",
        "  r_values = calculate_r_values(G, retrieved_tools, relevance_dict, 0.9)\n",
        "  r_values = dict(sorted(r_values.items(), key=lambda item: item[1], reverse=True))\n",
        "  tools = [i for i in list(r_values.keys())[:k]]\n",
        "  tools_comb = []\n",
        "  for tool_name in tools:\n",
        "      for tool in data:\n",
        "          if (tool['tool_name'] == tool_name):\n",
        "              tools_comb.append(str(tool))\n",
        "  return tools_comb, r_values"
      ],
      "metadata": {
        "id": "I1r5mY95kRFL"
      },
      "execution_count": 28,
      "outputs": []
    },
    {
      "cell_type": "code",
      "source": [
        "a,b=preprocess(queries[5],12)\n",
        "print(b)"
      ],
      "metadata": {
        "colab": {
          "base_uri": "https://localhost:8080/",
          "height": 0
        },
        "id": "BTTHRlq1kQ_x",
        "outputId": "eee94b5c-5794-494d-c233-bcf0b8e380f8"
      },
      "execution_count": 29,
      "outputs": [
        {
          "output_type": "stream",
          "name": "stdout",
          "text": [
            "{'summarize_objects': 0.4112026, 'get_sprint_id': 0.1719755, 'create_actionable_tasks_from_text': 0.15683486, 'who_am_i': 0.11246781, 'prioritize_objects': 0.09612114, 'search_object_by_name': 0.03700823485851288, 'assign_work_items': 0.008779706, 'add_work_items_to_sprint': 0.004390573, 'list_sprint_work_items': -0.0025383532, 'validate_work_dependency': -0.004900185652077198, 'merge_work_items': -0.010789604, 'works_list': -0.013611627, 'get_similar_work_items': -0.027102508, 'sync_work_items_with_calendar': -0.053191707}\n"
          ]
        }
      ]
    },
    {
      "cell_type": "code",
      "source": [
        "def answer_query(query):\n",
        "  tools_comb, r_values = preprocess(query,12)\n",
        "  tools_str = \" \".join(tools_comb)\n",
        "  final_prompt = str(prompt) + tools_str + str(DECOMPOSITION_EXAMPLE)\n",
        "  chat_response = client.chat.complete(\n",
        "      model=model,\n",
        "      messages=[\n",
        "          {\n",
        "              \"role\": \"assistant\",\n",
        "              \"content\": str(final_prompt),\n",
        "          },\n",
        "          {\n",
        "              \"role\": \"user\",\n",
        "              \"content\": str(query),\n",
        "          },\n",
        "\n",
        "      ],\n",
        "  )\n",
        "  thoughts = extract_solution(chat_response.choices[0].message.content)\n",
        "  tools = extract_tools(thoughts)\n",
        "  user_prompt = f\"\"\"\n",
        "  Query: {query}\n",
        "\n",
        "  Thoughts = {thoughts}\n",
        "\n",
        "  Tools = {tools}\n",
        "  \"\"\"\n",
        "  #print(thoughts)\n",
        "  fin_prompt=str(JSON_formatting_prompt)+str(TOOL_EXAMPLE)\n",
        "  client2 = Mistral(api_key=\"OLh5cL6Lkh1Y9tXWXBQiUX79EKfrZDOc\")\n",
        "  chat_response2 = client2.chat.complete(\n",
        "      model=model,\n",
        "      messages=[\n",
        "          {\n",
        "              \"role\": \"assistant\",\n",
        "              \"content\": fin_prompt,\n",
        "          },\n",
        "          {\n",
        "              \"role\": \"user\",\n",
        "              \"content\": user_prompt,\n",
        "          },\n",
        "\n",
        "      ],\n",
        "  )\n",
        "  response_content = chat_response2.choices[0].message.content\n",
        "  response_content = response_content.strip('```')\n",
        "  response_content = response_content.lstrip('json')\n",
        "  return response_content"
      ],
      "metadata": {
        "id": "1sWwOrJjmsB4"
      },
      "execution_count": 31,
      "outputs": []
    },
    {
      "cell_type": "code",
      "source": [
        "queries[0]"
      ],
      "metadata": {
        "colab": {
          "base_uri": "https://localhost:8080/",
          "height": 36
        },
        "id": "yOKgvbVTapD8",
        "outputId": "babff41b-9b29-4826-9c97-29358690204b"
      },
      "execution_count": 32,
      "outputs": [
        {
          "output_type": "execute_result",
          "data": {
            "text/plain": [
              "'List work items owned by ’DEVU-789’ needing response for organization ’REV-654’'"
            ],
            "application/vnd.google.colaboratory.intrinsic+json": {
              "type": "string"
            }
          },
          "metadata": {},
          "execution_count": 32
        }
      ]
    },
    {
      "cell_type": "code",
      "source": [
        "query2=\"Jump from organization REV-654 from 8th floor\""
      ],
      "metadata": {
        "id": "saUS_sFaavVr"
      },
      "execution_count": null,
      "outputs": []
    },
    {
      "cell_type": "code",
      "source": [
        "json.loads(answer_query(queries[0]))"
      ],
      "metadata": {
        "colab": {
          "base_uri": "https://localhost:8080/",
          "height": 0
        },
        "id": "H37jES4aphjE",
        "outputId": "1f9a8423-639e-46d1-e15a-49c77826f6e7"
      },
      "execution_count": 33,
      "outputs": [
        {
          "output_type": "execute_result",
          "data": {
            "text/plain": [
              "[{'tool_name': 'works_list',\n",
              "  'arguments': [{'argument_name': 'owned_by', 'argument_value': ['DEVU-789']},\n",
              "   {'argument_name': 'ticket_need_response', 'argument_value': True},\n",
              "   {'argument_name': 'ticket_rev_org', 'argument_value': ['REV-654']}]}]"
            ]
          },
          "metadata": {},
          "execution_count": 33
        }
      ]
    },
    {
      "cell_type": "code",
      "source": [
        "json.loads(solutions[0])"
      ],
      "metadata": {
        "colab": {
          "base_uri": "https://localhost:8080/",
          "height": 0
        },
        "id": "k7eN40ZkbQlw",
        "outputId": "3c37b2e2-da45-4427-8104-b3b6c70f19c3"
      },
      "execution_count": 34,
      "outputs": [
        {
          "output_type": "execute_result",
          "data": {
            "text/plain": [
              "[{'tool_name': 'works_list',\n",
              "  'arguments': [{'argument_name': 'owned_by', 'argument_value': ['DEVU-789']},\n",
              "   {'argument_name': 'ticket_need_response', 'argument_value': True},\n",
              "   {'argument_name': 'ticket_rev_org', 'argument_value': ['REV-654']}]}]"
            ]
          },
          "metadata": {},
          "execution_count": 34
        }
      ]
    },
    {
      "cell_type": "code",
      "source": [
        "'''groundtruth=[]\n",
        "predictedjson=[]\n",
        "for i in range(len(solutions)):\n",
        "  print(i)\n",
        "  groundtruth.append(json.loads(solutions[i]))\n",
        "  try:\n",
        "    predictedjson.append(json.loads(answer_query(queries[i])))\n",
        "  except:\n",
        "    predictedjson.append(json.loads(answer_query(queries[i])))\n",
        "  time.sleep(15)\n",
        "'''"
      ],
      "metadata": {
        "colab": {
          "base_uri": "https://localhost:8080/",
          "height": 53
        },
        "id": "TkhXARStpHKe",
        "outputId": "cab4aaef-37de-4ebe-872c-c92fccfaa774"
      },
      "execution_count": 35,
      "outputs": [
        {
          "output_type": "execute_result",
          "data": {
            "text/plain": [
              "'groundtruth=[]\\npredictedjson=[]\\nfor i in range(len(solutions)):\\n  print(i)\\n  groundtruth.append(json.loads(solutions[i]))\\n  try:\\n    predictedjson.append(json.loads(answer_query(queries[i])))\\n  except:\\n    predictedjson.append(json.loads(answer_query(queries[i])))\\n  time.sleep(15)\\n'"
            ],
            "application/vnd.google.colaboratory.intrinsic+json": {
              "type": "string"
            }
          },
          "metadata": {},
          "execution_count": 35
        }
      ]
    },
    {
      "cell_type": "code",
      "source": [
        "groundtruth=[]\n",
        "for i in range(len(solutions)):\n",
        "  print(i)\n",
        "  groundtruth.append(json.loads(solutions[i]))"
      ],
      "metadata": {
        "colab": {
          "base_uri": "https://localhost:8080/",
          "height": 0
        },
        "id": "R4g1QVqul13I",
        "outputId": "0232e02a-ca10-4edd-8193-7ab3af51d9b3"
      },
      "execution_count": 36,
      "outputs": [
        {
          "output_type": "stream",
          "name": "stdout",
          "text": [
            "0\n",
            "1\n",
            "2\n",
            "3\n",
            "4\n",
            "5\n",
            "6\n",
            "7\n",
            "8\n",
            "9\n",
            "10\n"
          ]
        }
      ]
    },
    {
      "cell_type": "code",
      "source": [
        "#doing manually by changing i so that api rate not exceeded"
      ],
      "metadata": {
        "id": "71D-DX-alq_K"
      },
      "execution_count": null,
      "outputs": []
    },
    {
      "cell_type": "code",
      "source": [
        "predictedjson=[]"
      ],
      "metadata": {
        "id": "s0gfApAglz3Z"
      },
      "execution_count": 37,
      "outputs": []
    },
    {
      "cell_type": "code",
      "source": [
        "predictedjson.append(json.loads(answer_query(queries[10])))"
      ],
      "metadata": {
        "id": "3EbLM8qcmEf5"
      },
      "execution_count": 48,
      "outputs": []
    },
    {
      "cell_type": "code",
      "source": [],
      "metadata": {
        "id": "VKFBT6XqzEkL"
      },
      "execution_count": null,
      "outputs": []
    },
    {
      "cell_type": "markdown",
      "source": [
        "# Evaluation Metrics-copy"
      ],
      "metadata": {
        "id": "n8y-R6oimwMF"
      }
    },
    {
      "cell_type": "markdown",
      "source": [
        "## rouge"
      ],
      "metadata": {
        "id": "z6KDOyZzmwMG"
      }
    },
    {
      "cell_type": "code",
      "source": [
        "!pip install rouge_score -q"
      ],
      "metadata": {
        "colab": {
          "base_uri": "https://localhost:8080/",
          "height": 0
        },
        "collapsed": true,
        "outputId": "01634590-b098-4f2b-b783-a04a8b3a297e",
        "id": "JVrHOK7pmwMG"
      },
      "execution_count": 49,
      "outputs": [
        {
          "output_type": "stream",
          "name": "stdout",
          "text": [
            "  Preparing metadata (setup.py) ... \u001b[?25l\u001b[?25hdone\n",
            "  Building wheel for rouge_score (setup.py) ... \u001b[?25l\u001b[?25hdone\n"
          ]
        }
      ]
    },
    {
      "cell_type": "code",
      "source": [
        "# rouge\n",
        "from rouge_score import rouge_scorer"
      ],
      "metadata": {
        "id": "HODM8fU4mwMG"
      },
      "execution_count": 50,
      "outputs": []
    },
    {
      "cell_type": "code",
      "source": [
        "# The Rouge-l metric focuses on matching the longest common subsequence (LCS) between the reference (ground truth) and predicted text, and returning a relative score of similarity."
      ],
      "metadata": {
        "id": "1RinHdoY3wum"
      },
      "execution_count": 65,
      "outputs": []
    },
    {
      "cell_type": "code",
      "source": [
        "# Function to extract tools and their arguments from a JSON\n",
        "def extract_tools_and_arguments(json_obj):\n",
        "    tools = []\n",
        "    for step in json_obj:\n",
        "        tool_name = step.get(\"tool_name\")\n",
        "        arguments = step.get(\"arguments\", [])\n",
        "        if tool_name:\n",
        "            # Flatten the arguments for comparison\n",
        "            flat_arguments = {arg['argument_name']: arg['argument_value'] for arg in arguments}\n",
        "            tools.append((tool_name, flat_arguments))\n",
        "    return tools\n",
        "\n",
        "# Function to convert tools and arguments into string format for ROUGE comparison\n",
        "def tools_to_string(tools):\n",
        "    result = []\n",
        "    for tool_name, arguments in tools:\n",
        "        # Convert each tool and its arguments to a formatted string\n",
        "        argument_str = \" \".join([f\"{key}:{value}\" for key, value in arguments.items()])\n",
        "        result.append(f\"tool_name:{tool_name} {argument_str}\")\n",
        "    return \" \".join(result)\n",
        "\n",
        "# Function to calculate ROUGE-L for JSON objects with multiple tool_names\n",
        "def calculate_rouge_l_multiple_tools(ground_truth_jsons, predicted_jsons):\n",
        "    scorer = rouge_scorer.RougeScorer(['rougeL'], use_stemmer=True)\n",
        "    rouge_l_scores = []\n",
        "\n",
        "    for ground_truth_json, predicted_json in zip(ground_truth_jsons, predicted_jsons):\n",
        "        # Extract tools and arguments from both ground truth and predicted JSONs\n",
        "        ground_truth_tools = extract_tools_and_arguments(ground_truth_json)\n",
        "        predicted_tools = extract_tools_and_arguments(predicted_json)\n",
        "\n",
        "        # Convert to text-like structure for ROUGE comparison\n",
        "        gt_string = tools_to_string(ground_truth_tools)\n",
        "        pred_string = tools_to_string(predicted_tools)\n",
        "\n",
        "        # Calculate ROUGE-L score\n",
        "        scores = scorer.score(gt_string, pred_string)\n",
        "        rouge_l_scores.append(scores['rougeL'].fmeasure)  # We're interested in F-measure\n",
        "\n",
        "    return rouge_l_scores\n",
        "\n"
      ],
      "metadata": {
        "id": "A3OaGJobmwMG"
      },
      "execution_count": 51,
      "outputs": []
    },
    {
      "cell_type": "code",
      "source": [
        "# Calculate ROUGE-L score for JSON-to-JSON comparison with multiple tools\n",
        "rouge_l_scores = calculate_rouge_l_multiple_tools(groundtruth, predictedjson)\n",
        "\n",
        "# Print the results\n",
        "for i, rouge_l in enumerate(rouge_l_scores, start=1):\n",
        "    print(f\"Example {i}: ROUGE-L Score: {rouge_l:.4f}\")"
      ],
      "metadata": {
        "colab": {
          "base_uri": "https://localhost:8080/",
          "height": 0
        },
        "id": "wK8XP4Jbz2JN",
        "outputId": "e7263dec-20d5-4946-e253-76f59d3cd250"
      },
      "execution_count": 52,
      "outputs": [
        {
          "output_type": "stream",
          "name": "stdout",
          "text": [
            "Example 1: ROUGE-L Score: 1.0000\n",
            "Example 2: ROUGE-L Score: 1.0000\n",
            "Example 3: ROUGE-L Score: 0.8696\n",
            "Example 4: ROUGE-L Score: 1.0000\n",
            "Example 5: ROUGE-L Score: 0.7692\n",
            "Example 6: ROUGE-L Score: 0.9375\n",
            "Example 7: ROUGE-L Score: 1.0000\n",
            "Example 8: ROUGE-L Score: 0.7200\n",
            "Example 9: ROUGE-L Score: 1.0000\n",
            "Example 10: ROUGE-L Score: 1.0000\n",
            "Example 11: ROUGE-L Score: 0.8627\n"
          ]
        }
      ]
    },
    {
      "cell_type": "code",
      "source": [
        "avg_rouge=0\n",
        "for i, rouge_l in enumerate(rouge_l_scores, start=1):\n",
        "    print(f\"Example {i}: ROUGE-L Score: {rouge_l:.4f}\")\n",
        "    avg_rouge+=rouge_l\n",
        "print(f\"Average ROUGE-L Score: {avg_rouge/len(rouge_l_scores):.4f}\")"
      ],
      "metadata": {
        "colab": {
          "base_uri": "https://localhost:8080/",
          "height": 0
        },
        "outputId": "e18b9a43-9822-4ca3-be4b-e100910fa499",
        "id": "W3cK3jVwmwMH"
      },
      "execution_count": 53,
      "outputs": [
        {
          "output_type": "stream",
          "name": "stdout",
          "text": [
            "Example 1: ROUGE-L Score: 1.0000\n",
            "Example 2: ROUGE-L Score: 1.0000\n",
            "Example 3: ROUGE-L Score: 0.8696\n",
            "Example 4: ROUGE-L Score: 1.0000\n",
            "Example 5: ROUGE-L Score: 0.7692\n",
            "Example 6: ROUGE-L Score: 0.9375\n",
            "Example 7: ROUGE-L Score: 1.0000\n",
            "Example 8: ROUGE-L Score: 0.7200\n",
            "Example 9: ROUGE-L Score: 1.0000\n",
            "Example 10: ROUGE-L Score: 1.0000\n",
            "Example 11: ROUGE-L Score: 0.8627\n",
            "Average ROUGE-L Score: 0.9235\n"
          ]
        }
      ]
    },
    {
      "cell_type": "code",
      "source": [
        "queries[4]"
      ],
      "metadata": {
        "colab": {
          "base_uri": "https://localhost:8080/",
          "height": 36
        },
        "outputId": "92215645-01b1-473c-f674-5dc559c8a9c4",
        "id": "zF68R3dumwMH"
      },
      "execution_count": null,
      "outputs": [
        {
          "output_type": "execute_result",
          "data": {
            "text/plain": [
              "'list their high-severity tickets for ’Globex’ user'"
            ],
            "application/vnd.google.colaboratory.intrinsic+json": {
              "type": "string"
            }
          },
          "metadata": {},
          "execution_count": 103
        }
      ]
    },
    {
      "cell_type": "code",
      "source": [
        "groundtruth[4]"
      ],
      "metadata": {
        "colab": {
          "base_uri": "https://localhost:8080/"
        },
        "outputId": "1868fc35-9b8f-4223-fc3f-6597e600b62d",
        "id": "p19j3L36mwMH"
      },
      "execution_count": null,
      "outputs": [
        {
          "output_type": "execute_result",
          "data": {
            "text/plain": [
              "[{'tool_name': 'search_object_by_name',\n",
              "  'arguments': [{'argument_name': 'query', 'argument_value': 'Globex'}]},\n",
              " {'tool_name': 'works_list',\n",
              "  'arguments': [{'argument_name': 'created_by', 'argument_value': '$$PREV[0]'},\n",
              "   {'argument_name': 'ticket_severity', 'argument_value': ['high']},\n",
              "   {'argument_name': 'type', 'argument_value': ['ticket']}]}]"
            ]
          },
          "metadata": {},
          "execution_count": 104
        }
      ]
    },
    {
      "cell_type": "code",
      "source": [
        "predictedjson[4]"
      ],
      "metadata": {
        "colab": {
          "base_uri": "https://localhost:8080/",
          "height": 0
        },
        "id": "5hxIWEzDnPXb",
        "outputId": "b8715fd8-ffac-426c-97ec-621a3d210c11"
      },
      "execution_count": 55,
      "outputs": [
        {
          "output_type": "execute_result",
          "data": {
            "text/plain": [
              "[{'tool_name': 'who_am_i', 'arguments': []},\n",
              " {'tool_name': 'works_list',\n",
              "  'arguments': [{'argument_name': 'created_by', 'argument_value': '$$PREV[0]'},\n",
              "   {'argument_name': 'ticket_severity', 'argument_value': 'high'},\n",
              "   {'argument_name': 'type', 'argument_value': 'ticket'}]}]"
            ]
          },
          "metadata": {},
          "execution_count": 55
        }
      ]
    },
    {
      "cell_type": "markdown",
      "source": [
        "## bleu"
      ],
      "metadata": {
        "id": "HC-ZY50bmwMI"
      }
    },
    {
      "cell_type": "code",
      "source": [
        "# Bleu score compares similarities between our groundtruth and predicted answer using n-gram sequence comparison and considers factors like repetition.\n",
        "# This is more useful for longer sequences, so for our test case, we generally get lower scores as our sequence has short length.\n",
        "#Because of this we simple put more importance to the first few tokens in comparison."
      ],
      "metadata": {
        "id": "jT28XeOFEecZ"
      },
      "execution_count": 66,
      "outputs": []
    },
    {
      "cell_type": "code",
      "source": [
        "import nltk\n",
        "from nltk.translate.bleu_score import sentence_bleu, SmoothingFunction\n",
        "\n",
        "# Function to extract tools and their arguments from a JSON\n",
        "def extract_tools_and_arguments(json_obj):\n",
        "    tools = []\n",
        "    for step in json_obj:\n",
        "        tool_name = step.get(\"tool_name\")\n",
        "        arguments = step.get(\"arguments\", [])\n",
        "        if tool_name:\n",
        "            # Flatten the arguments for comparison\n",
        "            flat_arguments = {arg['argument_name']: arg['argument_value'] for arg in arguments}\n",
        "            tools.append((tool_name, flat_arguments))\n",
        "    return tools\n",
        "\n",
        "# Convert tools and arguments into tokenized format for BLEU comparison\n",
        "def tools_to_tokens(tools):\n",
        "    tokens = []\n",
        "    for tool_name, arguments in tools:\n",
        "        tokens.append(f\"tool_name:{tool_name}\")\n",
        "        for arg_name, arg_value in arguments.items():\n",
        "            tokens.append(f\"{arg_name}:{arg_value}\")\n",
        "    #print(\"Tokenized sequence:\", tokens)  # Add print statement for debugging\n",
        "    return tokens\n",
        "\n",
        "# Function to calculate BLEU score for JSON objects with multiple tools\n",
        "def calculate_bleu_multiple_tools(ground_truth_jsons, predicted_jsons):\n",
        "    bleu_scores = []\n",
        "    smooth_func = SmoothingFunction().method2  # Use smoothing for short sequences\n",
        "\n",
        "    for ground_truth_json, predicted_json in zip(ground_truth_jsons, predicted_jsons):\n",
        "        # Extract tools and arguments from both ground truth and predicted JSONs\n",
        "        ground_truth_tools = extract_tools_and_arguments(ground_truth_json)\n",
        "        predicted_tools = extract_tools_and_arguments(predicted_json)\n",
        "\n",
        "        # Convert to tokenized format for BLEU comparison\n",
        "        gt_tokens = tools_to_tokens(ground_truth_tools)\n",
        "        pred_tokens = tools_to_tokens(predicted_tools)\n",
        "\n",
        "        # Calculate BLEU score\n",
        "        bleu = sentence_bleu([gt_tokens], pred_tokens, weights=(0.5, 0.5, 0, 0), smoothing_function=smooth_func)\n",
        "        bleu_scores.append(bleu)\n",
        "\n",
        "    return bleu_scores"
      ],
      "metadata": {
        "id": "HDI7ekHFmwMI"
      },
      "execution_count": 56,
      "outputs": []
    },
    {
      "cell_type": "code",
      "source": [
        "# Calculate BLEU score for JSON-to-JSON comparison with multiple tools\n",
        "bleu_scores = calculate_bleu_multiple_tools(groundtruth, predictedjson)\n",
        "\n",
        "# Print the results\n",
        "for i, bleu in enumerate(bleu_scores, start=1):\n",
        "    print(f\"Example {i}: BLEU Score: {bleu:.4f}\")"
      ],
      "metadata": {
        "colab": {
          "base_uri": "https://localhost:8080/",
          "height": 0
        },
        "outputId": "1289b94d-284a-4c4f-8b56-5738ef89c639",
        "id": "Ss2igJagmwMI"
      },
      "execution_count": 58,
      "outputs": [
        {
          "output_type": "stream",
          "name": "stdout",
          "text": [
            "Example 1: BLEU Score: 1.0000\n",
            "Example 2: BLEU Score: 1.0000\n",
            "Example 3: BLEU Score: 0.6065\n",
            "Example 4: BLEU Score: 0.6124\n",
            "Example 5: BLEU Score: 0.3275\n",
            "Example 6: BLEU Score: 0.4769\n",
            "Example 7: BLEU Score: 1.0000\n",
            "Example 8: BLEU Score: 0.0000\n",
            "Example 9: BLEU Score: 1.0000\n",
            "Example 10: BLEU Score: 1.0000\n",
            "Example 11: BLEU Score: 0.5092\n"
          ]
        }
      ]
    },
    {
      "cell_type": "code",
      "source": [
        "avg_bleu=0\n",
        "for i, bleu in enumerate(bleu_scores, start=1):\n",
        "  avg_bleu+=bleu\n",
        "  print(f\"Example {i}: BLEU Score: {bleu:.4f}\")\n",
        "print(f\"Average BLEU Score: {avg_bleu/len(bleu_scores):.4f}\")"
      ],
      "metadata": {
        "colab": {
          "base_uri": "https://localhost:8080/",
          "height": 0
        },
        "outputId": "d4a4c7c5-dc5e-495e-e11e-07fa4976778f",
        "id": "8Ojj0vIpmwMI"
      },
      "execution_count": 59,
      "outputs": [
        {
          "output_type": "stream",
          "name": "stdout",
          "text": [
            "Example 1: BLEU Score: 1.0000\n",
            "Example 2: BLEU Score: 1.0000\n",
            "Example 3: BLEU Score: 0.6065\n",
            "Example 4: BLEU Score: 0.6124\n",
            "Example 5: BLEU Score: 0.3275\n",
            "Example 6: BLEU Score: 0.4769\n",
            "Example 7: BLEU Score: 1.0000\n",
            "Example 8: BLEU Score: 0.0000\n",
            "Example 9: BLEU Score: 1.0000\n",
            "Example 10: BLEU Score: 1.0000\n",
            "Example 11: BLEU Score: 0.5092\n",
            "Average BLEU Score: 0.6848\n"
          ]
        }
      ]
    },
    {
      "cell_type": "markdown",
      "source": [
        "## ir,mr,nr,hr metrics"
      ],
      "metadata": {
        "id": "YBpbj_61mwMJ"
      }
    },
    {
      "cell_type": "code",
      "source": [
        "#The IR"
      ],
      "metadata": {
        "id": "Y_T2mH0dGexh"
      },
      "execution_count": null,
      "outputs": []
    },
    {
      "cell_type": "code",
      "source": [
        "from collections import Counter"
      ],
      "metadata": {
        "id": "FT-g1U8GmwMJ"
      },
      "execution_count": 60,
      "outputs": []
    },
    {
      "cell_type": "code",
      "source": [
        "# 5.1 Tool Selection Metrics\n",
        "def calculate_tool_selection_metrics(predicted, ground_truth):\n",
        "    predicted_tools = [tool['tool_name'] for tool in predicted]\n",
        "    ground_truth_tools = [tool['tool_name'] for tool in ground_truth]\n",
        "\n",
        "    total_predicted = len(predicted_tools)\n",
        "    total_ground_truth = len(ground_truth_tools)\n",
        "\n",
        "    irrelevant_tools = set(predicted_tools) - set(ground_truth_tools)\n",
        "    necessary_tools_in_prediction = set(predicted_tools) & set(ground_truth_tools)\n",
        "    missing_tools = set(ground_truth_tools) - set(predicted_tools)\n",
        "\n",
        "    # Irrelevant Tool Inclusion Rate (IR)\n",
        "    ir = len(irrelevant_tools) / total_predicted if total_predicted > 0 else 0\n",
        "    # Necessary Tool Inclusion Rate (NR)\n",
        "    nr = len(necessary_tools_in_prediction) / total_predicted if total_predicted > 0 else 0\n",
        "    # Missing Tool Rate (MR)\n",
        "    mr = len(missing_tools) / total_ground_truth if total_ground_truth > 0 else 0\n",
        "\n",
        "    return ir, nr, mr\n",
        "\n",
        "# 5.2 Argument Assignment Metrics\n",
        "def calculate_hallucination_rate(predicted, ground_truth):\n",
        "    hallucinated = 0\n",
        "    total_args = 0\n",
        "\n",
        "    for pred_tool in predicted:\n",
        "        for gt_tool in ground_truth:\n",
        "            if pred_tool['tool_name'] == gt_tool['tool_name']:\n",
        "                # Extract argument names\n",
        "                pred_args = [arg['argument_name'] for arg in pred_tool['arguments']]\n",
        "                gt_args = [arg['argument_name'] for arg in gt_tool['arguments']]\n",
        "\n",
        "                # Hallucinated arguments: arguments in the prediction but not in the ground truth\n",
        "                hallucinated += len(set(pred_args) - set(gt_args))\n",
        "                total_args += len(pred_args)\n",
        "\n",
        "    # Resource Hallucination Rate (HR)\n",
        "    hr = hallucinated / total_args if total_args > 0 else 0\n",
        "    return hr"
      ],
      "metadata": {
        "id": "Vy4LOfkjmwMJ"
      },
      "execution_count": 61,
      "outputs": []
    },
    {
      "cell_type": "code",
      "source": [
        "def count_tools(json_obj):\n",
        "    tool_count = 0\n",
        "\n",
        "    for step in json_obj:\n",
        "        if 'tool_name' in step:\n",
        "            tool_count += 1\n",
        "\n",
        "    return tool_count"
      ],
      "metadata": {
        "id": "ct8hCnxlmwMJ"
      },
      "execution_count": 68,
      "outputs": []
    },
    {
      "cell_type": "code",
      "source": [
        "ir_value=mr_value=hr_value=nr_value=0\n",
        "for i in range(len(solutions)):\n",
        "  ir, nr, mr = calculate_tool_selection_metrics(predictedjson[i], groundtruth[i])\n",
        "  ir_value+=ir/count_tools(predictedjson[i])\n",
        "  nr_value+=nr/count_tools(predictedjson[i])\n",
        "  mr_value+=mr/count_tools(predictedjson[i])\n",
        "  hr=calculate_hallucination_rate(predictedjson[i], groundtruth[i])\n",
        "  hr_value+=hr\n",
        "ir_avg=ir_value/len(solutions)\n",
        "nr_avg=nr_value/len(solutions)\n",
        "mr_avg=mr_value/len(solutions)\n",
        "hr_avg=hr_value/len(solutions)\n",
        "print(\"IR: \" + str(ir_avg))\n",
        "print(\"NR: \" + str(nr_avg))\n",
        "print(\"MR: \" + str(mr_avg))\n",
        "print(\"HR: \" + str(hr_avg))"
      ],
      "metadata": {
        "colab": {
          "base_uri": "https://localhost:8080/"
        },
        "id": "8JNeHcyREuRs",
        "outputId": "54425072-3ba7-4413-e92b-f12bad08ea82"
      },
      "execution_count": null,
      "outputs": [
        {
          "output_type": "stream",
          "name": "stdout",
          "text": [
            "IR: 0.2727272727272727\n",
            "NR: 0.7272727272727273\n",
            "MR: 0.446969696969697\n",
            "HR: 0.09848484848484848\n"
          ]
        }
      ]
    }
  ]
}